{
  "metadata": {
    "kernelspec": {
      "language": "python",
      "display_name": "Python 3",
      "name": "python3"
    },
    "language_info": {
      "name": "python",
      "version": "3.7.12",
      "mimetype": "text/x-python",
      "codemirror_mode": {
        "name": "ipython",
        "version": 3
      },
      "pygments_lexer": "ipython3",
      "nbconvert_exporter": "python",
      "file_extension": ".py"
    },
    "colab": {
      "provenance": [],
      "include_colab_link": true
    }
  },
  "nbformat_minor": 0,
  "nbformat": 4,
  "cells": [
    {
      "cell_type": "markdown",
      "metadata": {
        "id": "view-in-github",
        "colab_type": "text"
      },
      "source": [
        "<a href=\"https://colab.research.google.com/github/gcicconofri098/Ice_Cube_project_CMEPDA/blob/main/project_notebook1.ipynb\" target=\"_parent\"><img src=\"https://colab.research.google.com/assets/colab-badge.svg\" alt=\"Open In Colab\"/></a>"
      ]
    },
    {
      "cell_type": "code",
      "source": [
        "import pandas as pd \n",
        "import matplotlib.pyplot as plt\n",
        "import numpy as np\n",
        "from tensorflow import keras\n",
        "from tensorflow.keras import layers\n",
        "from tensorflow.keras.optimizers import Adam\n",
        "\n",
        "#plt.style.use('seaborn-whitegrid')\n",
        "# Set Matplotlib defaults\n",
        "#plt.rc('figure', autolayout=True)\n",
        "#plt.rc('axes', labelweight='bold', labelsize='large',\n",
        "#       titleweight='bold', titlesize=18, titlepad=10)\n",
        "#plt.rc('animation', html='html5')\n",
        "\n",
        "\n",
        "# Input data files are available in the read-only \"../input/\" directory\n",
        "# For example, running this (by clicking run or pressing Shift+Enter) will list all files under the input directory\n",
        "\n",
        "import os\n",
        "#for dirname, _, filenames in os.walk('/kaggle/input'):\n",
        "#    for filename in filenames:\n",
        "#        print(os.path.join(dirname, filename))\n",
        "\n",
        "def angular_dist_score(y_true, y_pred):\n",
        "    az_true = y_true[:,0]\n",
        "    zen_true = y_true[:,1]\n",
        "    az_pred = y_pred[:,0]\n",
        "    zen_pred = y_pred[:,1]\n",
        "    if not (np.all(np.isfinite(az_true)) and\n",
        "            np.all(np.isfinite(zen_true)) and\n",
        "            np.all(np.isfinite(az_pred)) and\n",
        "            np.all(np.isfinite(zen_pred))):\n",
        "        raise ValueError(\"All arguments must be finite\")\n",
        "    \n",
        "    # pre-compute all sine and cosine values\n",
        "    sa1 = np.sin(az_true)\n",
        "    ca1 = np.cos(az_true)\n",
        "    sz1 = np.sin(zen_true)\n",
        "    cz1 = np.cos(zen_true)\n",
        "\n",
        "    sa2 = np.sin(az_pred)\n",
        "    ca2 = np.cos(az_pred)\n",
        "    sz2 = np.sin(zen_pred)\n",
        "    cz2 = np.cos(zen_pred)\n",
        "\n",
        "    # scalar product of the two cartesian vectors (x = sz*ca, y = sz*sa, z = cz)\n",
        "    scalar_prod = sz1*sz2*(ca1*ca2 + sa1*sa2) + (cz1*cz2)\n",
        "\n",
        "    # scalar product of two unit vectors is always between -1 and 1, this is against numerical instability\n",
        "    # that might otherwise occure from the finite precision of the sine and cosine functions\n",
        "    scalar_prod =  np.clip(scalar_prod, -1, 1)\n",
        "\n",
        "    # convert back to an angle (in radian)\n",
        "    return np.average(np.abs(np.arccos(scalar_prod)))"
      ],
      "metadata": {
        "_uuid": "8f2839f25d086af736a60e9eeb907d3b93b6e0e5",
        "_cell_guid": "b1076dfc-b9ad-4769-8c92-a6c4dae69d19",
        "execution": {
          "iopub.status.busy": "2023-06-06T08:48:54.996973Z",
          "iopub.execute_input": "2023-06-06T08:48:54.998714Z",
          "iopub.status.idle": "2023-06-06T08:48:55.168845Z",
          "shell.execute_reply.started": "2023-06-06T08:48:54.998662Z",
          "shell.execute_reply": "2023-06-06T08:48:55.167521Z"
        },
        "trusted": true,
        "id": "Nm6FphFBGxoi"
      },
      "execution_count": null,
      "outputs": []
    },
    {
      "cell_type": "markdown",
      "source": [
        "![image.png](attachment:2c7dbbb6-0aa1-4f57-aae0-5f209f5c2600.png)"
      ],
      "metadata": {
        "id": "FoQWgcieGxoz"
      }
    },
    {
      "cell_type": "code",
      "source": [
        "#Read files\n",
        "df = pd.read_parquet('/kaggle/input/icecube-neutrinos-in-deep-ice/train/batch_2.parquet').reset_index()\n",
        "\n",
        "res = pd.read_parquet('/kaggle/input/icecube-neutrinos-in-deep-ice/train_meta.parquet')\n",
        "\n",
        "geom = pd.read_csv('/kaggle/input/icecube-neutrinos-in-deep-ice/sensor_geometry.csv')\n",
        "\n",
        "#Filters on events\n",
        "\n",
        "df = df[df['auxiliary']==False]\n",
        "\n",
        "df = df.drop(labels='auxiliary', axis=1)\n",
        "\n",
        "df.head()\n"
      ],
      "metadata": {
        "execution": {
          "iopub.status.busy": "2023-06-06T08:49:17.950068Z",
          "iopub.execute_input": "2023-06-06T08:49:17.950536Z",
          "iopub.status.idle": "2023-06-06T08:50:21.285654Z",
          "shell.execute_reply.started": "2023-06-06T08:49:17.950494Z",
          "shell.execute_reply": "2023-06-06T08:50:21.284534Z"
        },
        "trusted": true,
        "id": "thMw3J27Gxo6",
        "outputId": "cd10efa7-b2a1-4608-c488-d5dd08e54df5"
      },
      "execution_count": null,
      "outputs": [
        {
          "execution_count": 3,
          "output_type": "execute_result",
          "data": {
            "text/plain": "    event_id  sensor_id  time  charge\n12   3266199       1775  9877   0.575\n13   3266199       1775  9882   1.225\n14   3266199       1775  9888   0.975\n15   3266199       1775  9893   0.975\n16   3266199       1775  9908   1.025",
            "text/html": "<div>\n<style scoped>\n    .dataframe tbody tr th:only-of-type {\n        vertical-align: middle;\n    }\n\n    .dataframe tbody tr th {\n        vertical-align: top;\n    }\n\n    .dataframe thead th {\n        text-align: right;\n    }\n</style>\n<table border=\"1\" class=\"dataframe\">\n  <thead>\n    <tr style=\"text-align: right;\">\n      <th></th>\n      <th>event_id</th>\n      <th>sensor_id</th>\n      <th>time</th>\n      <th>charge</th>\n    </tr>\n  </thead>\n  <tbody>\n    <tr>\n      <th>12</th>\n      <td>3266199</td>\n      <td>1775</td>\n      <td>9877</td>\n      <td>0.575</td>\n    </tr>\n    <tr>\n      <th>13</th>\n      <td>3266199</td>\n      <td>1775</td>\n      <td>9882</td>\n      <td>1.225</td>\n    </tr>\n    <tr>\n      <th>14</th>\n      <td>3266199</td>\n      <td>1775</td>\n      <td>9888</td>\n      <td>0.975</td>\n    </tr>\n    <tr>\n      <th>15</th>\n      <td>3266199</td>\n      <td>1775</td>\n      <td>9893</td>\n      <td>0.975</td>\n    </tr>\n    <tr>\n      <th>16</th>\n      <td>3266199</td>\n      <td>1775</td>\n      <td>9908</td>\n      <td>1.025</td>\n    </tr>\n  </tbody>\n</table>\n</div>"
          },
          "metadata": {}
        }
      ]
    },
    {
      "cell_type": "code",
      "source": [
        "#Geometrical stuff\n",
        "\n",
        "geom['sensor_azimuth'] = np.arctan(geom['y']/geom['x'])\n",
        "geom['sensor_zenith'] = np.arctan(np.sqrt(geom['x']**2 + geom['y']**2)/geom['z'])\n",
        "\n",
        "geom.head()\n"
      ],
      "metadata": {
        "execution": {
          "iopub.status.busy": "2023-06-06T08:50:28.995325Z",
          "iopub.execute_input": "2023-06-06T08:50:28.995800Z",
          "iopub.status.idle": "2023-06-06T08:50:29.019408Z",
          "shell.execute_reply.started": "2023-06-06T08:50:28.995758Z",
          "shell.execute_reply": "2023-06-06T08:50:29.018417Z"
        },
        "trusted": true,
        "id": "6TgMm33TGxpC",
        "outputId": "5f6e407f-aebf-4d39-e659-abc88badf208"
      },
      "execution_count": null,
      "outputs": [
        {
          "execution_count": 4,
          "output_type": "execute_result",
          "data": {
            "text/plain": "   sensor_id       x       y       z  sensor_azimuth  sensor_zenith\n0          0 -256.14 -521.08  496.03        1.113927       0.863814\n1          1 -256.14 -521.08  479.01        1.113927       0.881007\n2          2 -256.14 -521.08  461.99        1.113927       0.898702\n3          3 -256.14 -521.08  444.97        1.113927       0.916909\n4          4 -256.14 -521.08  427.95        1.113927       0.935639",
            "text/html": "<div>\n<style scoped>\n    .dataframe tbody tr th:only-of-type {\n        vertical-align: middle;\n    }\n\n    .dataframe tbody tr th {\n        vertical-align: top;\n    }\n\n    .dataframe thead th {\n        text-align: right;\n    }\n</style>\n<table border=\"1\" class=\"dataframe\">\n  <thead>\n    <tr style=\"text-align: right;\">\n      <th></th>\n      <th>sensor_id</th>\n      <th>x</th>\n      <th>y</th>\n      <th>z</th>\n      <th>sensor_azimuth</th>\n      <th>sensor_zenith</th>\n    </tr>\n  </thead>\n  <tbody>\n    <tr>\n      <th>0</th>\n      <td>0</td>\n      <td>-256.14</td>\n      <td>-521.08</td>\n      <td>496.03</td>\n      <td>1.113927</td>\n      <td>0.863814</td>\n    </tr>\n    <tr>\n      <th>1</th>\n      <td>1</td>\n      <td>-256.14</td>\n      <td>-521.08</td>\n      <td>479.01</td>\n      <td>1.113927</td>\n      <td>0.881007</td>\n    </tr>\n    <tr>\n      <th>2</th>\n      <td>2</td>\n      <td>-256.14</td>\n      <td>-521.08</td>\n      <td>461.99</td>\n      <td>1.113927</td>\n      <td>0.898702</td>\n    </tr>\n    <tr>\n      <th>3</th>\n      <td>3</td>\n      <td>-256.14</td>\n      <td>-521.08</td>\n      <td>444.97</td>\n      <td>1.113927</td>\n      <td>0.916909</td>\n    </tr>\n    <tr>\n      <th>4</th>\n      <td>4</td>\n      <td>-256.14</td>\n      <td>-521.08</td>\n      <td>427.95</td>\n      <td>1.113927</td>\n      <td>0.935639</td>\n    </tr>\n  </tbody>\n</table>\n</div>"
          },
          "metadata": {}
        }
      ]
    },
    {
      "cell_type": "code",
      "source": [
        "#add spacial positions of sensor on dataframe\n",
        "\n",
        "df['charge'].astype(np.float16()) \n",
        "df_with_geom = df.merge(geom, how = 'left', on = 'sensor_id').reset_index(drop = True)\n",
        "#df_with_geom = df_with_geom.merge(res, how = 'left', on = 'event_id').reset_index(drop = True)\n",
        "#res = res.drop(labels = ['batch_id', 'first_pulse_index', 'last_pulse_index'], axis= 1)\n",
        "#df_with_geom = df_with_geom.drop(['x', 'y', 'z'], axis = 1)\n",
        "df_with_geom.head(15)\n"
      ],
      "metadata": {
        "execution": {
          "iopub.status.busy": "2023-06-06T08:50:32.576014Z",
          "iopub.execute_input": "2023-06-06T08:50:32.576709Z",
          "iopub.status.idle": "2023-06-06T08:50:46.421105Z",
          "shell.execute_reply.started": "2023-06-06T08:50:32.576645Z",
          "shell.execute_reply": "2023-06-06T08:50:46.418768Z"
        },
        "trusted": true,
        "id": "AIygcAlUGxpM",
        "outputId": "c79fac33-4c32-4bb7-8264-9b316775407d"
      },
      "execution_count": null,
      "outputs": [
        {
          "execution_count": 5,
          "output_type": "execute_result",
          "data": {
            "text/plain": "    event_id  sensor_id   time  charge       x      y       z  sensor_azimuth  \\\n0    3266199       1775   9877   0.575  500.43 -58.45  -93.87       -0.116273   \n1    3266199       1775   9882   1.225  500.43 -58.45  -93.87       -0.116273   \n2    3266199       1775   9888   0.975  500.43 -58.45  -93.87       -0.116273   \n3    3266199       1775   9893   0.975  500.43 -58.45  -93.87       -0.116273   \n4    3266199       1775   9908   1.025  500.43 -58.45  -93.87       -0.116273   \n5    3266199       1776   9912   0.725  500.43 -58.45 -110.89       -0.116273   \n6    3266199       1775   9916   0.975  500.43 -58.45  -93.87       -0.116273   \n7    3266199       1775   9925   0.975  500.43 -58.45  -93.87       -0.116273   \n8    3266199       1776   9966   1.575  500.43 -58.45 -110.89       -0.116273   \n9    3266199       1775   9988   0.875  500.43 -58.45  -93.87       -0.116273   \n10   3266199       1774   9992   0.925  500.43 -58.45  -76.85       -0.116273   \n11   3266199       1775  10004   1.375  500.43 -58.45  -93.87       -0.116273   \n12   3266199       1775  10028   1.075  500.43 -58.45  -93.87       -0.116273   \n13   3266199       1776  10047   1.925  500.43 -58.45 -110.89       -0.116273   \n14   3266199       1774  10059   1.075  500.43 -58.45  -76.85       -0.116273   \n\n    sensor_zenith  \n0       -1.386596  \n1       -1.386596  \n2       -1.386596  \n3       -1.386596  \n4       -1.386596  \n5       -1.354157  \n6       -1.386596  \n7       -1.386596  \n8       -1.354157  \n9       -1.386596  \n10      -1.419432  \n11      -1.386596  \n12      -1.386596  \n13      -1.354157  \n14      -1.419432  ",
            "text/html": "<div>\n<style scoped>\n    .dataframe tbody tr th:only-of-type {\n        vertical-align: middle;\n    }\n\n    .dataframe tbody tr th {\n        vertical-align: top;\n    }\n\n    .dataframe thead th {\n        text-align: right;\n    }\n</style>\n<table border=\"1\" class=\"dataframe\">\n  <thead>\n    <tr style=\"text-align: right;\">\n      <th></th>\n      <th>event_id</th>\n      <th>sensor_id</th>\n      <th>time</th>\n      <th>charge</th>\n      <th>x</th>\n      <th>y</th>\n      <th>z</th>\n      <th>sensor_azimuth</th>\n      <th>sensor_zenith</th>\n    </tr>\n  </thead>\n  <tbody>\n    <tr>\n      <th>0</th>\n      <td>3266199</td>\n      <td>1775</td>\n      <td>9877</td>\n      <td>0.575</td>\n      <td>500.43</td>\n      <td>-58.45</td>\n      <td>-93.87</td>\n      <td>-0.116273</td>\n      <td>-1.386596</td>\n    </tr>\n    <tr>\n      <th>1</th>\n      <td>3266199</td>\n      <td>1775</td>\n      <td>9882</td>\n      <td>1.225</td>\n      <td>500.43</td>\n      <td>-58.45</td>\n      <td>-93.87</td>\n      <td>-0.116273</td>\n      <td>-1.386596</td>\n    </tr>\n    <tr>\n      <th>2</th>\n      <td>3266199</td>\n      <td>1775</td>\n      <td>9888</td>\n      <td>0.975</td>\n      <td>500.43</td>\n      <td>-58.45</td>\n      <td>-93.87</td>\n      <td>-0.116273</td>\n      <td>-1.386596</td>\n    </tr>\n    <tr>\n      <th>3</th>\n      <td>3266199</td>\n      <td>1775</td>\n      <td>9893</td>\n      <td>0.975</td>\n      <td>500.43</td>\n      <td>-58.45</td>\n      <td>-93.87</td>\n      <td>-0.116273</td>\n      <td>-1.386596</td>\n    </tr>\n    <tr>\n      <th>4</th>\n      <td>3266199</td>\n      <td>1775</td>\n      <td>9908</td>\n      <td>1.025</td>\n      <td>500.43</td>\n      <td>-58.45</td>\n      <td>-93.87</td>\n      <td>-0.116273</td>\n      <td>-1.386596</td>\n    </tr>\n    <tr>\n      <th>5</th>\n      <td>3266199</td>\n      <td>1776</td>\n      <td>9912</td>\n      <td>0.725</td>\n      <td>500.43</td>\n      <td>-58.45</td>\n      <td>-110.89</td>\n      <td>-0.116273</td>\n      <td>-1.354157</td>\n    </tr>\n    <tr>\n      <th>6</th>\n      <td>3266199</td>\n      <td>1775</td>\n      <td>9916</td>\n      <td>0.975</td>\n      <td>500.43</td>\n      <td>-58.45</td>\n      <td>-93.87</td>\n      <td>-0.116273</td>\n      <td>-1.386596</td>\n    </tr>\n    <tr>\n      <th>7</th>\n      <td>3266199</td>\n      <td>1775</td>\n      <td>9925</td>\n      <td>0.975</td>\n      <td>500.43</td>\n      <td>-58.45</td>\n      <td>-93.87</td>\n      <td>-0.116273</td>\n      <td>-1.386596</td>\n    </tr>\n    <tr>\n      <th>8</th>\n      <td>3266199</td>\n      <td>1776</td>\n      <td>9966</td>\n      <td>1.575</td>\n      <td>500.43</td>\n      <td>-58.45</td>\n      <td>-110.89</td>\n      <td>-0.116273</td>\n      <td>-1.354157</td>\n    </tr>\n    <tr>\n      <th>9</th>\n      <td>3266199</td>\n      <td>1775</td>\n      <td>9988</td>\n      <td>0.875</td>\n      <td>500.43</td>\n      <td>-58.45</td>\n      <td>-93.87</td>\n      <td>-0.116273</td>\n      <td>-1.386596</td>\n    </tr>\n    <tr>\n      <th>10</th>\n      <td>3266199</td>\n      <td>1774</td>\n      <td>9992</td>\n      <td>0.925</td>\n      <td>500.43</td>\n      <td>-58.45</td>\n      <td>-76.85</td>\n      <td>-0.116273</td>\n      <td>-1.419432</td>\n    </tr>\n    <tr>\n      <th>11</th>\n      <td>3266199</td>\n      <td>1775</td>\n      <td>10004</td>\n      <td>1.375</td>\n      <td>500.43</td>\n      <td>-58.45</td>\n      <td>-93.87</td>\n      <td>-0.116273</td>\n      <td>-1.386596</td>\n    </tr>\n    <tr>\n      <th>12</th>\n      <td>3266199</td>\n      <td>1775</td>\n      <td>10028</td>\n      <td>1.075</td>\n      <td>500.43</td>\n      <td>-58.45</td>\n      <td>-93.87</td>\n      <td>-0.116273</td>\n      <td>-1.386596</td>\n    </tr>\n    <tr>\n      <th>13</th>\n      <td>3266199</td>\n      <td>1776</td>\n      <td>10047</td>\n      <td>1.925</td>\n      <td>500.43</td>\n      <td>-58.45</td>\n      <td>-110.89</td>\n      <td>-0.116273</td>\n      <td>-1.354157</td>\n    </tr>\n    <tr>\n      <th>14</th>\n      <td>3266199</td>\n      <td>1774</td>\n      <td>10059</td>\n      <td>1.075</td>\n      <td>500.43</td>\n      <td>-58.45</td>\n      <td>-76.85</td>\n      <td>-0.116273</td>\n      <td>-1.419432</td>\n    </tr>\n  </tbody>\n</table>\n</div>"
          },
          "metadata": {}
        }
      ]
    },
    {
      "cell_type": "code",
      "source": [
        "del df"
      ],
      "metadata": {
        "execution": {
          "iopub.status.busy": "2023-06-05T13:06:29.509335Z",
          "iopub.execute_input": "2023-06-05T13:06:29.509869Z",
          "iopub.status.idle": "2023-06-05T13:06:29.515883Z",
          "shell.execute_reply.started": "2023-06-05T13:06:29.509829Z",
          "shell.execute_reply": "2023-06-05T13:06:29.514916Z"
        },
        "trusted": true,
        "id": "YktCenhDGxpR"
      },
      "execution_count": null,
      "outputs": []
    },
    {
      "cell_type": "code",
      "source": [
        "df_with_geom = df_with_geom.drop(labels=['x', 'y', 'z'], axis=1)"
      ],
      "metadata": {
        "execution": {
          "iopub.status.busy": "2023-06-06T08:51:09.168459Z",
          "iopub.execute_input": "2023-06-06T08:51:09.168973Z",
          "iopub.status.idle": "2023-06-06T08:51:09.783281Z",
          "shell.execute_reply.started": "2023-06-06T08:51:09.168930Z",
          "shell.execute_reply": "2023-06-06T08:51:09.781690Z"
        },
        "trusted": true,
        "id": "TUFQnJzoGxpV"
      },
      "execution_count": null,
      "outputs": []
    },
    {
      "cell_type": "code",
      "source": [
        "#df_with_geom = df_with_geom.groupby(['event_id']).apply(lambda s: s.sort_values(by='time')).reset_index(drop = True)\n",
        "df_with_geom = df_with_geom.sort_values('charge', ascending = False).drop_duplicates(['event_id', 'sensor_id']).sort_index()\n",
        "\n",
        "\n",
        "df_with_geom.head(25)"
      ],
      "metadata": {
        "execution": {
          "iopub.status.busy": "2023-06-06T08:51:17.540271Z",
          "iopub.execute_input": "2023-06-06T08:51:17.541563Z",
          "iopub.status.idle": "2023-06-06T08:51:28.529481Z",
          "shell.execute_reply.started": "2023-06-06T08:51:17.541495Z",
          "shell.execute_reply": "2023-06-06T08:51:28.528451Z"
        },
        "trusted": true,
        "id": "_mfVI0fiGxpY",
        "outputId": "621820fa-1e17-4d0a-d074-999ca448176e"
      },
      "execution_count": null,
      "outputs": [
        {
          "execution_count": 7,
          "output_type": "execute_result",
          "data": {
            "text/plain": "    event_id  sensor_id   time  charge  sensor_azimuth  sensor_zenith\n11   3266199       1775  10004   1.375       -0.116273      -1.386596\n13   3266199       1776  10047   1.925       -0.116273      -1.354157\n14   3266199       1774  10059   1.075       -0.116273      -1.419432\n17   3266199       1166  10969   1.475       -0.569066       1.427733\n19   3266199       1105  11028   1.875       -0.783732       1.334892\n21   3266199       1106  11034   1.025       -0.783732       1.389699\n22   3266199       1107  11066   1.275       -0.783732       1.445661\n26   3266199       1167  11122   1.625       -0.569066       1.470974\n27   3266199       1104  11173   1.275       -0.783732       1.281491\n30   3266199       1109  11932   0.925       -0.783732       1.559557\n31   3266228       3897   9899   1.175        1.065710      -0.667515\n33   3266228       3896   9947   1.225        1.065710      -0.686027\n34   3266228       3898  10020   1.225        1.065710      -0.649834\n35   3266228       3894  10037   2.675        1.065710      -0.725729\n38   3266228       3410  10656   1.075        0.688363      -0.765643\n39   3266228       3899  10766   1.075        1.065710      -0.632939\n41   3266228       3941  10970   1.375        0.835790      -1.182844\n42   3266228       3940  11051   1.025        0.835790      -1.215497\n43   3266228       3409  11404   1.225        0.688363      -0.790814\n44   3266228       3980  12301   0.275        0.684890       1.280561\n45   3266228       3979  12394   0.975        0.684890       1.252643\n47   3266228       3977  13160   0.825        0.684890       1.198345\n48   3266282        732   9341   0.625       -0.646659       1.051173\n49   3266282       1143   9861   1.175       -0.569066       0.714454\n51   3266282        734   9942   0.325       -0.646659       1.103078",
            "text/html": "<div>\n<style scoped>\n    .dataframe tbody tr th:only-of-type {\n        vertical-align: middle;\n    }\n\n    .dataframe tbody tr th {\n        vertical-align: top;\n    }\n\n    .dataframe thead th {\n        text-align: right;\n    }\n</style>\n<table border=\"1\" class=\"dataframe\">\n  <thead>\n    <tr style=\"text-align: right;\">\n      <th></th>\n      <th>event_id</th>\n      <th>sensor_id</th>\n      <th>time</th>\n      <th>charge</th>\n      <th>sensor_azimuth</th>\n      <th>sensor_zenith</th>\n    </tr>\n  </thead>\n  <tbody>\n    <tr>\n      <th>11</th>\n      <td>3266199</td>\n      <td>1775</td>\n      <td>10004</td>\n      <td>1.375</td>\n      <td>-0.116273</td>\n      <td>-1.386596</td>\n    </tr>\n    <tr>\n      <th>13</th>\n      <td>3266199</td>\n      <td>1776</td>\n      <td>10047</td>\n      <td>1.925</td>\n      <td>-0.116273</td>\n      <td>-1.354157</td>\n    </tr>\n    <tr>\n      <th>14</th>\n      <td>3266199</td>\n      <td>1774</td>\n      <td>10059</td>\n      <td>1.075</td>\n      <td>-0.116273</td>\n      <td>-1.419432</td>\n    </tr>\n    <tr>\n      <th>17</th>\n      <td>3266199</td>\n      <td>1166</td>\n      <td>10969</td>\n      <td>1.475</td>\n      <td>-0.569066</td>\n      <td>1.427733</td>\n    </tr>\n    <tr>\n      <th>19</th>\n      <td>3266199</td>\n      <td>1105</td>\n      <td>11028</td>\n      <td>1.875</td>\n      <td>-0.783732</td>\n      <td>1.334892</td>\n    </tr>\n    <tr>\n      <th>21</th>\n      <td>3266199</td>\n      <td>1106</td>\n      <td>11034</td>\n      <td>1.025</td>\n      <td>-0.783732</td>\n      <td>1.389699</td>\n    </tr>\n    <tr>\n      <th>22</th>\n      <td>3266199</td>\n      <td>1107</td>\n      <td>11066</td>\n      <td>1.275</td>\n      <td>-0.783732</td>\n      <td>1.445661</td>\n    </tr>\n    <tr>\n      <th>26</th>\n      <td>3266199</td>\n      <td>1167</td>\n      <td>11122</td>\n      <td>1.625</td>\n      <td>-0.569066</td>\n      <td>1.470974</td>\n    </tr>\n    <tr>\n      <th>27</th>\n      <td>3266199</td>\n      <td>1104</td>\n      <td>11173</td>\n      <td>1.275</td>\n      <td>-0.783732</td>\n      <td>1.281491</td>\n    </tr>\n    <tr>\n      <th>30</th>\n      <td>3266199</td>\n      <td>1109</td>\n      <td>11932</td>\n      <td>0.925</td>\n      <td>-0.783732</td>\n      <td>1.559557</td>\n    </tr>\n    <tr>\n      <th>31</th>\n      <td>3266228</td>\n      <td>3897</td>\n      <td>9899</td>\n      <td>1.175</td>\n      <td>1.065710</td>\n      <td>-0.667515</td>\n    </tr>\n    <tr>\n      <th>33</th>\n      <td>3266228</td>\n      <td>3896</td>\n      <td>9947</td>\n      <td>1.225</td>\n      <td>1.065710</td>\n      <td>-0.686027</td>\n    </tr>\n    <tr>\n      <th>34</th>\n      <td>3266228</td>\n      <td>3898</td>\n      <td>10020</td>\n      <td>1.225</td>\n      <td>1.065710</td>\n      <td>-0.649834</td>\n    </tr>\n    <tr>\n      <th>35</th>\n      <td>3266228</td>\n      <td>3894</td>\n      <td>10037</td>\n      <td>2.675</td>\n      <td>1.065710</td>\n      <td>-0.725729</td>\n    </tr>\n    <tr>\n      <th>38</th>\n      <td>3266228</td>\n      <td>3410</td>\n      <td>10656</td>\n      <td>1.075</td>\n      <td>0.688363</td>\n      <td>-0.765643</td>\n    </tr>\n    <tr>\n      <th>39</th>\n      <td>3266228</td>\n      <td>3899</td>\n      <td>10766</td>\n      <td>1.075</td>\n      <td>1.065710</td>\n      <td>-0.632939</td>\n    </tr>\n    <tr>\n      <th>41</th>\n      <td>3266228</td>\n      <td>3941</td>\n      <td>10970</td>\n      <td>1.375</td>\n      <td>0.835790</td>\n      <td>-1.182844</td>\n    </tr>\n    <tr>\n      <th>42</th>\n      <td>3266228</td>\n      <td>3940</td>\n      <td>11051</td>\n      <td>1.025</td>\n      <td>0.835790</td>\n      <td>-1.215497</td>\n    </tr>\n    <tr>\n      <th>43</th>\n      <td>3266228</td>\n      <td>3409</td>\n      <td>11404</td>\n      <td>1.225</td>\n      <td>0.688363</td>\n      <td>-0.790814</td>\n    </tr>\n    <tr>\n      <th>44</th>\n      <td>3266228</td>\n      <td>3980</td>\n      <td>12301</td>\n      <td>0.275</td>\n      <td>0.684890</td>\n      <td>1.280561</td>\n    </tr>\n    <tr>\n      <th>45</th>\n      <td>3266228</td>\n      <td>3979</td>\n      <td>12394</td>\n      <td>0.975</td>\n      <td>0.684890</td>\n      <td>1.252643</td>\n    </tr>\n    <tr>\n      <th>47</th>\n      <td>3266228</td>\n      <td>3977</td>\n      <td>13160</td>\n      <td>0.825</td>\n      <td>0.684890</td>\n      <td>1.198345</td>\n    </tr>\n    <tr>\n      <th>48</th>\n      <td>3266282</td>\n      <td>732</td>\n      <td>9341</td>\n      <td>0.625</td>\n      <td>-0.646659</td>\n      <td>1.051173</td>\n    </tr>\n    <tr>\n      <th>49</th>\n      <td>3266282</td>\n      <td>1143</td>\n      <td>9861</td>\n      <td>1.175</td>\n      <td>-0.569066</td>\n      <td>0.714454</td>\n    </tr>\n    <tr>\n      <th>51</th>\n      <td>3266282</td>\n      <td>734</td>\n      <td>9942</td>\n      <td>0.325</td>\n      <td>-0.646659</td>\n      <td>1.103078</td>\n    </tr>\n  </tbody>\n</table>\n</div>"
          },
          "metadata": {}
        }
      ]
    },
    {
      "cell_type": "code",
      "source": [
        "df_with_geom['n_counter'] = df_with_geom.groupby('event_id').cumcount()\n",
        "df_with_geom"
      ],
      "metadata": {
        "execution": {
          "iopub.status.busy": "2023-06-06T08:51:45.149742Z",
          "iopub.execute_input": "2023-06-06T08:51:45.150188Z",
          "iopub.status.idle": "2023-06-06T08:51:45.533435Z",
          "shell.execute_reply.started": "2023-06-06T08:51:45.150150Z",
          "shell.execute_reply": "2023-06-06T08:51:45.531960Z"
        },
        "trusted": true,
        "id": "iCsJlNNsGxpf",
        "outputId": "6b3d75a4-6809-4f6d-da3b-de7015e6d297"
      },
      "execution_count": null,
      "outputs": [
        {
          "execution_count": 8,
          "output_type": "execute_result",
          "data": {
            "text/plain": "          event_id  sensor_id   time  charge  sensor_azimuth  sensor_zenith  \\\n11         3266199       1775  10004   1.375       -0.116273      -1.386596   \n13         3266199       1776  10047   1.925       -0.116273      -1.354157   \n14         3266199       1774  10059   1.075       -0.116273      -1.419432   \n17         3266199       1166  10969   1.475       -0.569066       1.427733   \n19         3266199       1105  11028   1.875       -0.783732       1.334892   \n...            ...        ...    ...     ...             ...            ...   \n22726668   6517807       2333  12357   0.675        0.031557      -0.799732   \n22726669   6517807       1735  12358   1.175       -0.243179      -0.723330   \n22726670   6517807       2337  12365   1.475        0.031557      -0.721389   \n22726671   6517807       1737  12462   1.025       -0.243179      -0.686039   \n22726672   6517807       1792  12567   0.975       -0.116273      -0.920539   \n\n          n_counter  \n11                0  \n13                1  \n14                2  \n17                3  \n19                4  \n...             ...  \n22726668         12  \n22726669         13  \n22726670         14  \n22726671         15  \n22726672         16  \n\n[4110085 rows x 7 columns]",
            "text/html": "<div>\n<style scoped>\n    .dataframe tbody tr th:only-of-type {\n        vertical-align: middle;\n    }\n\n    .dataframe tbody tr th {\n        vertical-align: top;\n    }\n\n    .dataframe thead th {\n        text-align: right;\n    }\n</style>\n<table border=\"1\" class=\"dataframe\">\n  <thead>\n    <tr style=\"text-align: right;\">\n      <th></th>\n      <th>event_id</th>\n      <th>sensor_id</th>\n      <th>time</th>\n      <th>charge</th>\n      <th>sensor_azimuth</th>\n      <th>sensor_zenith</th>\n      <th>n_counter</th>\n    </tr>\n  </thead>\n  <tbody>\n    <tr>\n      <th>11</th>\n      <td>3266199</td>\n      <td>1775</td>\n      <td>10004</td>\n      <td>1.375</td>\n      <td>-0.116273</td>\n      <td>-1.386596</td>\n      <td>0</td>\n    </tr>\n    <tr>\n      <th>13</th>\n      <td>3266199</td>\n      <td>1776</td>\n      <td>10047</td>\n      <td>1.925</td>\n      <td>-0.116273</td>\n      <td>-1.354157</td>\n      <td>1</td>\n    </tr>\n    <tr>\n      <th>14</th>\n      <td>3266199</td>\n      <td>1774</td>\n      <td>10059</td>\n      <td>1.075</td>\n      <td>-0.116273</td>\n      <td>-1.419432</td>\n      <td>2</td>\n    </tr>\n    <tr>\n      <th>17</th>\n      <td>3266199</td>\n      <td>1166</td>\n      <td>10969</td>\n      <td>1.475</td>\n      <td>-0.569066</td>\n      <td>1.427733</td>\n      <td>3</td>\n    </tr>\n    <tr>\n      <th>19</th>\n      <td>3266199</td>\n      <td>1105</td>\n      <td>11028</td>\n      <td>1.875</td>\n      <td>-0.783732</td>\n      <td>1.334892</td>\n      <td>4</td>\n    </tr>\n    <tr>\n      <th>...</th>\n      <td>...</td>\n      <td>...</td>\n      <td>...</td>\n      <td>...</td>\n      <td>...</td>\n      <td>...</td>\n      <td>...</td>\n    </tr>\n    <tr>\n      <th>22726668</th>\n      <td>6517807</td>\n      <td>2333</td>\n      <td>12357</td>\n      <td>0.675</td>\n      <td>0.031557</td>\n      <td>-0.799732</td>\n      <td>12</td>\n    </tr>\n    <tr>\n      <th>22726669</th>\n      <td>6517807</td>\n      <td>1735</td>\n      <td>12358</td>\n      <td>1.175</td>\n      <td>-0.243179</td>\n      <td>-0.723330</td>\n      <td>13</td>\n    </tr>\n    <tr>\n      <th>22726670</th>\n      <td>6517807</td>\n      <td>2337</td>\n      <td>12365</td>\n      <td>1.475</td>\n      <td>0.031557</td>\n      <td>-0.721389</td>\n      <td>14</td>\n    </tr>\n    <tr>\n      <th>22726671</th>\n      <td>6517807</td>\n      <td>1737</td>\n      <td>12462</td>\n      <td>1.025</td>\n      <td>-0.243179</td>\n      <td>-0.686039</td>\n      <td>15</td>\n    </tr>\n    <tr>\n      <th>22726672</th>\n      <td>6517807</td>\n      <td>1792</td>\n      <td>12567</td>\n      <td>0.975</td>\n      <td>-0.116273</td>\n      <td>-0.920539</td>\n      <td>16</td>\n    </tr>\n  </tbody>\n</table>\n<p>4110085 rows × 7 columns</p>\n</div>"
          },
          "metadata": {}
        }
      ]
    },
    {
      "cell_type": "code",
      "source": [
        "df_with_geom  = df_with_geom[df_with_geom.n_counter<100]\n",
        "df_with_geom"
      ],
      "metadata": {
        "execution": {
          "iopub.status.busy": "2023-06-06T08:52:31.255695Z",
          "iopub.execute_input": "2023-06-06T08:52:31.256180Z",
          "iopub.status.idle": "2023-06-06T08:52:31.481894Z",
          "shell.execute_reply.started": "2023-06-06T08:52:31.256135Z",
          "shell.execute_reply": "2023-06-06T08:52:31.480553Z"
        },
        "trusted": true,
        "id": "PkwRuXQOGxpo",
        "outputId": "fa0c83d5-40bc-421d-ae51-22b9f21095ac"
      },
      "execution_count": null,
      "outputs": [
        {
          "execution_count": 9,
          "output_type": "execute_result",
          "data": {
            "text/plain": "          event_id  sensor_id   time  charge  sensor_azimuth  sensor_zenith  \\\n11         3266199       1775  10004   1.375       -0.116273      -1.386596   \n13         3266199       1776  10047   1.925       -0.116273      -1.354157   \n14         3266199       1774  10059   1.075       -0.116273      -1.419432   \n17         3266199       1166  10969   1.475       -0.569066       1.427733   \n19         3266199       1105  11028   1.875       -0.783732       1.334892   \n...            ...        ...    ...     ...             ...            ...   \n22726668   6517807       2333  12357   0.675        0.031557      -0.799732   \n22726669   6517807       1735  12358   1.175       -0.243179      -0.723330   \n22726670   6517807       2337  12365   1.475        0.031557      -0.721389   \n22726671   6517807       1737  12462   1.025       -0.243179      -0.686039   \n22726672   6517807       1792  12567   0.975       -0.116273      -0.920539   \n\n          n_counter  \n11                0  \n13                1  \n14                2  \n17                3  \n19                4  \n...             ...  \n22726668         12  \n22726669         13  \n22726670         14  \n22726671         15  \n22726672         16  \n\n[3531144 rows x 7 columns]",
            "text/html": "<div>\n<style scoped>\n    .dataframe tbody tr th:only-of-type {\n        vertical-align: middle;\n    }\n\n    .dataframe tbody tr th {\n        vertical-align: top;\n    }\n\n    .dataframe thead th {\n        text-align: right;\n    }\n</style>\n<table border=\"1\" class=\"dataframe\">\n  <thead>\n    <tr style=\"text-align: right;\">\n      <th></th>\n      <th>event_id</th>\n      <th>sensor_id</th>\n      <th>time</th>\n      <th>charge</th>\n      <th>sensor_azimuth</th>\n      <th>sensor_zenith</th>\n      <th>n_counter</th>\n    </tr>\n  </thead>\n  <tbody>\n    <tr>\n      <th>11</th>\n      <td>3266199</td>\n      <td>1775</td>\n      <td>10004</td>\n      <td>1.375</td>\n      <td>-0.116273</td>\n      <td>-1.386596</td>\n      <td>0</td>\n    </tr>\n    <tr>\n      <th>13</th>\n      <td>3266199</td>\n      <td>1776</td>\n      <td>10047</td>\n      <td>1.925</td>\n      <td>-0.116273</td>\n      <td>-1.354157</td>\n      <td>1</td>\n    </tr>\n    <tr>\n      <th>14</th>\n      <td>3266199</td>\n      <td>1774</td>\n      <td>10059</td>\n      <td>1.075</td>\n      <td>-0.116273</td>\n      <td>-1.419432</td>\n      <td>2</td>\n    </tr>\n    <tr>\n      <th>17</th>\n      <td>3266199</td>\n      <td>1166</td>\n      <td>10969</td>\n      <td>1.475</td>\n      <td>-0.569066</td>\n      <td>1.427733</td>\n      <td>3</td>\n    </tr>\n    <tr>\n      <th>19</th>\n      <td>3266199</td>\n      <td>1105</td>\n      <td>11028</td>\n      <td>1.875</td>\n      <td>-0.783732</td>\n      <td>1.334892</td>\n      <td>4</td>\n    </tr>\n    <tr>\n      <th>...</th>\n      <td>...</td>\n      <td>...</td>\n      <td>...</td>\n      <td>...</td>\n      <td>...</td>\n      <td>...</td>\n      <td>...</td>\n    </tr>\n    <tr>\n      <th>22726668</th>\n      <td>6517807</td>\n      <td>2333</td>\n      <td>12357</td>\n      <td>0.675</td>\n      <td>0.031557</td>\n      <td>-0.799732</td>\n      <td>12</td>\n    </tr>\n    <tr>\n      <th>22726669</th>\n      <td>6517807</td>\n      <td>1735</td>\n      <td>12358</td>\n      <td>1.175</td>\n      <td>-0.243179</td>\n      <td>-0.723330</td>\n      <td>13</td>\n    </tr>\n    <tr>\n      <th>22726670</th>\n      <td>6517807</td>\n      <td>2337</td>\n      <td>12365</td>\n      <td>1.475</td>\n      <td>0.031557</td>\n      <td>-0.721389</td>\n      <td>14</td>\n    </tr>\n    <tr>\n      <th>22726671</th>\n      <td>6517807</td>\n      <td>1737</td>\n      <td>12462</td>\n      <td>1.025</td>\n      <td>-0.243179</td>\n      <td>-0.686039</td>\n      <td>15</td>\n    </tr>\n    <tr>\n      <th>22726672</th>\n      <td>6517807</td>\n      <td>1792</td>\n      <td>12567</td>\n      <td>0.975</td>\n      <td>-0.116273</td>\n      <td>-0.920539</td>\n      <td>16</td>\n    </tr>\n  </tbody>\n</table>\n<p>3531144 rows × 7 columns</p>\n</div>"
          },
          "metadata": {}
        }
      ]
    },
    {
      "cell_type": "code",
      "source": [
        "maxima = df_with_geom.groupby('event_id')['n_counter'].max().values\n",
        "maxima"
      ],
      "metadata": {
        "execution": {
          "iopub.status.busy": "2023-06-06T08:52:49.342903Z",
          "iopub.execute_input": "2023-06-06T08:52:49.343437Z",
          "iopub.status.idle": "2023-06-06T08:52:49.448750Z",
          "shell.execute_reply.started": "2023-06-06T08:52:49.343395Z",
          "shell.execute_reply": "2023-06-06T08:52:49.447246Z"
        },
        "trusted": true,
        "id": "3bLmswDLGxps",
        "outputId": "8fa6f426-0ec1-4c91-ceab-00b530db5d93"
      },
      "execution_count": null,
      "outputs": [
        {
          "execution_count": 10,
          "output_type": "execute_result",
          "data": {
            "text/plain": "array([ 9, 11,  5, ..., 13,  5, 16])"
          },
          "metadata": {}
        }
      ]
    },
    {
      "cell_type": "code",
      "source": [
        "n_counter_1 = np.where(maxima > 99, maxima, 99 )\n",
        "n_counter_1"
      ],
      "metadata": {
        "execution": {
          "iopub.status.busy": "2023-06-06T08:52:52.527437Z",
          "iopub.execute_input": "2023-06-06T08:52:52.527918Z",
          "iopub.status.idle": "2023-06-06T08:52:52.538076Z",
          "shell.execute_reply.started": "2023-06-06T08:52:52.527878Z",
          "shell.execute_reply": "2023-06-06T08:52:52.536660Z"
        },
        "trusted": true,
        "id": "xBvNt4b2Gxpy",
        "outputId": "8194aa96-8971-45b9-9e99-1552072c5579"
      },
      "execution_count": null,
      "outputs": [
        {
          "execution_count": 11,
          "output_type": "execute_result",
          "data": {
            "text/plain": "array([99, 99, 99, ..., 99, 99, 99])"
          },
          "metadata": {}
        }
      ]
    },
    {
      "cell_type": "code",
      "source": [
        "diff = n_counter_1 - maxima\n",
        "diff"
      ],
      "metadata": {
        "execution": {
          "iopub.status.busy": "2023-06-06T08:52:55.927788Z",
          "iopub.execute_input": "2023-06-06T08:52:55.929137Z",
          "iopub.status.idle": "2023-06-06T08:52:55.937327Z",
          "shell.execute_reply.started": "2023-06-06T08:52:55.929071Z",
          "shell.execute_reply": "2023-06-06T08:52:55.936006Z"
        },
        "trusted": true,
        "id": "ZOZMEYOkGxp2",
        "outputId": "37dcf85e-167a-4621-9243-03d3b290e6ef"
      },
      "execution_count": null,
      "outputs": [
        {
          "execution_count": 12,
          "output_type": "execute_result",
          "data": {
            "text/plain": "array([90, 88, 94, ..., 86, 94, 83])"
          },
          "metadata": {}
        }
      ]
    },
    {
      "cell_type": "code",
      "source": [
        "df_with_geom.set_index(['event_id', 'n_counter'], inplace= True)\n",
        "df_with_geom"
      ],
      "metadata": {
        "execution": {
          "iopub.status.busy": "2023-06-06T09:11:20.989248Z",
          "iopub.execute_input": "2023-06-06T09:11:20.990557Z",
          "iopub.status.idle": "2023-06-06T09:11:21.249095Z",
          "shell.execute_reply.started": "2023-06-06T09:11:20.990510Z",
          "shell.execute_reply": "2023-06-06T09:11:21.248124Z"
        },
        "trusted": true,
        "id": "jfRhAJPsGxp5",
        "outputId": "faaab7fa-cab2-4723-85ad-331373930c8d"
      },
      "execution_count": null,
      "outputs": [
        {
          "execution_count": 22,
          "output_type": "execute_result",
          "data": {
            "text/plain": "                    sensor_id   time  charge  sensor_azimuth  sensor_zenith\nevent_id n_counter                                                         \n3266199  0               1775  10004   1.375       -0.116273      -1.386596\n         1               1776  10047   1.925       -0.116273      -1.354157\n         2               1774  10059   1.075       -0.116273      -1.419432\n         3               1166  10969   1.475       -0.569066       1.427733\n         4               1105  11028   1.875       -0.783732       1.334892\n...                       ...    ...     ...             ...            ...\n6517807  12              2333  12357   0.675        0.031557      -0.799732\n         13              1735  12358   1.175       -0.243179      -0.723330\n         14              2337  12365   1.475        0.031557      -0.721389\n         15              1737  12462   1.025       -0.243179      -0.686039\n         16              1792  12567   0.975       -0.116273      -0.920539\n\n[3531144 rows x 5 columns]",
            "text/html": "<div>\n<style scoped>\n    .dataframe tbody tr th:only-of-type {\n        vertical-align: middle;\n    }\n\n    .dataframe tbody tr th {\n        vertical-align: top;\n    }\n\n    .dataframe thead th {\n        text-align: right;\n    }\n</style>\n<table border=\"1\" class=\"dataframe\">\n  <thead>\n    <tr style=\"text-align: right;\">\n      <th></th>\n      <th></th>\n      <th>sensor_id</th>\n      <th>time</th>\n      <th>charge</th>\n      <th>sensor_azimuth</th>\n      <th>sensor_zenith</th>\n    </tr>\n    <tr>\n      <th>event_id</th>\n      <th>n_counter</th>\n      <th></th>\n      <th></th>\n      <th></th>\n      <th></th>\n      <th></th>\n    </tr>\n  </thead>\n  <tbody>\n    <tr>\n      <th rowspan=\"5\" valign=\"top\">3266199</th>\n      <th>0</th>\n      <td>1775</td>\n      <td>10004</td>\n      <td>1.375</td>\n      <td>-0.116273</td>\n      <td>-1.386596</td>\n    </tr>\n    <tr>\n      <th>1</th>\n      <td>1776</td>\n      <td>10047</td>\n      <td>1.925</td>\n      <td>-0.116273</td>\n      <td>-1.354157</td>\n    </tr>\n    <tr>\n      <th>2</th>\n      <td>1774</td>\n      <td>10059</td>\n      <td>1.075</td>\n      <td>-0.116273</td>\n      <td>-1.419432</td>\n    </tr>\n    <tr>\n      <th>3</th>\n      <td>1166</td>\n      <td>10969</td>\n      <td>1.475</td>\n      <td>-0.569066</td>\n      <td>1.427733</td>\n    </tr>\n    <tr>\n      <th>4</th>\n      <td>1105</td>\n      <td>11028</td>\n      <td>1.875</td>\n      <td>-0.783732</td>\n      <td>1.334892</td>\n    </tr>\n    <tr>\n      <th>...</th>\n      <th>...</th>\n      <td>...</td>\n      <td>...</td>\n      <td>...</td>\n      <td>...</td>\n      <td>...</td>\n    </tr>\n    <tr>\n      <th rowspan=\"5\" valign=\"top\">6517807</th>\n      <th>12</th>\n      <td>2333</td>\n      <td>12357</td>\n      <td>0.675</td>\n      <td>0.031557</td>\n      <td>-0.799732</td>\n    </tr>\n    <tr>\n      <th>13</th>\n      <td>1735</td>\n      <td>12358</td>\n      <td>1.175</td>\n      <td>-0.243179</td>\n      <td>-0.723330</td>\n    </tr>\n    <tr>\n      <th>14</th>\n      <td>2337</td>\n      <td>12365</td>\n      <td>1.475</td>\n      <td>0.031557</td>\n      <td>-0.721389</td>\n    </tr>\n    <tr>\n      <th>15</th>\n      <td>1737</td>\n      <td>12462</td>\n      <td>1.025</td>\n      <td>-0.243179</td>\n      <td>-0.686039</td>\n    </tr>\n    <tr>\n      <th>16</th>\n      <td>1792</td>\n      <td>12567</td>\n      <td>0.975</td>\n      <td>-0.116273</td>\n      <td>-0.920539</td>\n    </tr>\n  </tbody>\n</table>\n<p>3531144 rows × 5 columns</p>\n</div>"
          },
          "metadata": {}
        }
      ]
    },
    {
      "cell_type": "code",
      "source": [
        "n_rows = np.sum(diff)\n",
        "ev_ids = np.unique(df_with_geom.index.get_level_values(0).values)\n",
        "zeros = np.zeros((n_rows, 5), dtype = np.int32)\n",
        "new_index = np.repeat(ev_ids, diff)\n",
        "new_index"
      ],
      "metadata": {
        "execution": {
          "iopub.status.busy": "2023-06-06T09:11:34.876155Z",
          "iopub.execute_input": "2023-06-06T09:11:34.876595Z",
          "iopub.status.idle": "2023-06-06T09:11:35.066002Z",
          "shell.execute_reply.started": "2023-06-06T09:11:34.876556Z",
          "shell.execute_reply": "2023-06-06T09:11:35.064705Z"
        },
        "trusted": true,
        "id": "E95lmmfLGxp_",
        "outputId": "03e1f4a6-3518-434f-b1dd-e55d53876266"
      },
      "execution_count": null,
      "outputs": [
        {
          "execution_count": 23,
          "output_type": "execute_result",
          "data": {
            "text/plain": "array([3266199, 3266199, 3266199, ..., 6517807, 6517807, 6517807])"
          },
          "metadata": {}
        }
      ]
    },
    {
      "cell_type": "code",
      "source": [
        "pad_df = pd.DataFrame(zeros, index = new_index ,columns=df_with_geom.columns).reset_index(drop = False)\n",
        "pad_df['event_id'] = pad_df['index']\n",
        "pad_df = pad_df.drop(labels = ['index'], axis =1)\n",
        "pad_df['n_counter'] = pad_df.groupby('event_id').cumcount() + df_with_geom.groupby('event_id').cumcount().max() +1\n",
        " \n",
        "#pad_df = pad_df.set_index(['event_id', 'n_counter'])\n",
        "#pad_df = pad_df.drop(labels = 'index', axis = 1)\n",
        "\n",
        "pad_df.head()"
      ],
      "metadata": {
        "execution": {
          "iopub.status.busy": "2023-06-06T09:21:10.118590Z",
          "iopub.execute_input": "2023-06-06T09:21:10.119133Z",
          "iopub.status.idle": "2023-06-06T09:21:12.490148Z",
          "shell.execute_reply.started": "2023-06-06T09:21:10.119087Z",
          "shell.execute_reply": "2023-06-06T09:21:12.488819Z"
        },
        "trusted": true,
        "id": "3B2N9bVdGxqD",
        "outputId": "373406df-3fbf-4504-a218-6e10a736054d"
      },
      "execution_count": null,
      "outputs": [
        {
          "execution_count": 25,
          "output_type": "execute_result",
          "data": {
            "text/plain": "   sensor_id  time  charge  sensor_azimuth  sensor_zenith  event_id  n_counter\n0          0     0       0               0              0   3266199        100\n1          0     0       0               0              0   3266199        101\n2          0     0       0               0              0   3266199        102\n3          0     0       0               0              0   3266199        103\n4          0     0       0               0              0   3266199        104",
            "text/html": "<div>\n<style scoped>\n    .dataframe tbody tr th:only-of-type {\n        vertical-align: middle;\n    }\n\n    .dataframe tbody tr th {\n        vertical-align: top;\n    }\n\n    .dataframe thead th {\n        text-align: right;\n    }\n</style>\n<table border=\"1\" class=\"dataframe\">\n  <thead>\n    <tr style=\"text-align: right;\">\n      <th></th>\n      <th>sensor_id</th>\n      <th>time</th>\n      <th>charge</th>\n      <th>sensor_azimuth</th>\n      <th>sensor_zenith</th>\n      <th>event_id</th>\n      <th>n_counter</th>\n    </tr>\n  </thead>\n  <tbody>\n    <tr>\n      <th>0</th>\n      <td>0</td>\n      <td>0</td>\n      <td>0</td>\n      <td>0</td>\n      <td>0</td>\n      <td>3266199</td>\n      <td>100</td>\n    </tr>\n    <tr>\n      <th>1</th>\n      <td>0</td>\n      <td>0</td>\n      <td>0</td>\n      <td>0</td>\n      <td>0</td>\n      <td>3266199</td>\n      <td>101</td>\n    </tr>\n    <tr>\n      <th>2</th>\n      <td>0</td>\n      <td>0</td>\n      <td>0</td>\n      <td>0</td>\n      <td>0</td>\n      <td>3266199</td>\n      <td>102</td>\n    </tr>\n    <tr>\n      <th>3</th>\n      <td>0</td>\n      <td>0</td>\n      <td>0</td>\n      <td>0</td>\n      <td>0</td>\n      <td>3266199</td>\n      <td>103</td>\n    </tr>\n    <tr>\n      <th>4</th>\n      <td>0</td>\n      <td>0</td>\n      <td>0</td>\n      <td>0</td>\n      <td>0</td>\n      <td>3266199</td>\n      <td>104</td>\n    </tr>\n  </tbody>\n</table>\n</div>"
          },
          "metadata": {}
        }
      ]
    },
    {
      "cell_type": "code",
      "source": [
        "pad_df = pad_df.set_index(['event_id', 'n_counter'])\n",
        "pad_df"
      ],
      "metadata": {
        "execution": {
          "iopub.status.busy": "2023-06-06T09:21:18.229203Z",
          "iopub.execute_input": "2023-06-06T09:21:18.229663Z",
          "iopub.status.idle": "2023-06-06T09:21:19.665542Z",
          "shell.execute_reply.started": "2023-06-06T09:21:18.229625Z",
          "shell.execute_reply": "2023-06-06T09:21:19.664207Z"
        },
        "trusted": true,
        "id": "NVXEsD_6GxqF",
        "outputId": "e81bc4fc-57f4-46c8-c17b-62b5074141b8"
      },
      "execution_count": null,
      "outputs": [
        {
          "execution_count": 26,
          "output_type": "execute_result",
          "data": {
            "text/plain": "                    sensor_id  time  charge  sensor_azimuth  sensor_zenith\nevent_id n_counter                                                        \n3266199  100                0     0       0               0              0\n         101                0     0       0               0              0\n         102                0     0       0               0              0\n         103                0     0       0               0              0\n         104                0     0       0               0              0\n...                       ...   ...     ...             ...            ...\n6517807  178                0     0       0               0              0\n         179                0     0       0               0              0\n         180                0     0       0               0              0\n         181                0     0       0               0              0\n         182                0     0       0               0              0\n\n[16468856 rows x 5 columns]",
            "text/html": "<div>\n<style scoped>\n    .dataframe tbody tr th:only-of-type {\n        vertical-align: middle;\n    }\n\n    .dataframe tbody tr th {\n        vertical-align: top;\n    }\n\n    .dataframe thead th {\n        text-align: right;\n    }\n</style>\n<table border=\"1\" class=\"dataframe\">\n  <thead>\n    <tr style=\"text-align: right;\">\n      <th></th>\n      <th></th>\n      <th>sensor_id</th>\n      <th>time</th>\n      <th>charge</th>\n      <th>sensor_azimuth</th>\n      <th>sensor_zenith</th>\n    </tr>\n    <tr>\n      <th>event_id</th>\n      <th>n_counter</th>\n      <th></th>\n      <th></th>\n      <th></th>\n      <th></th>\n      <th></th>\n    </tr>\n  </thead>\n  <tbody>\n    <tr>\n      <th rowspan=\"5\" valign=\"top\">3266199</th>\n      <th>100</th>\n      <td>0</td>\n      <td>0</td>\n      <td>0</td>\n      <td>0</td>\n      <td>0</td>\n    </tr>\n    <tr>\n      <th>101</th>\n      <td>0</td>\n      <td>0</td>\n      <td>0</td>\n      <td>0</td>\n      <td>0</td>\n    </tr>\n    <tr>\n      <th>102</th>\n      <td>0</td>\n      <td>0</td>\n      <td>0</td>\n      <td>0</td>\n      <td>0</td>\n    </tr>\n    <tr>\n      <th>103</th>\n      <td>0</td>\n      <td>0</td>\n      <td>0</td>\n      <td>0</td>\n      <td>0</td>\n    </tr>\n    <tr>\n      <th>104</th>\n      <td>0</td>\n      <td>0</td>\n      <td>0</td>\n      <td>0</td>\n      <td>0</td>\n    </tr>\n    <tr>\n      <th>...</th>\n      <th>...</th>\n      <td>...</td>\n      <td>...</td>\n      <td>...</td>\n      <td>...</td>\n      <td>...</td>\n    </tr>\n    <tr>\n      <th rowspan=\"5\" valign=\"top\">6517807</th>\n      <th>178</th>\n      <td>0</td>\n      <td>0</td>\n      <td>0</td>\n      <td>0</td>\n      <td>0</td>\n    </tr>\n    <tr>\n      <th>179</th>\n      <td>0</td>\n      <td>0</td>\n      <td>0</td>\n      <td>0</td>\n      <td>0</td>\n    </tr>\n    <tr>\n      <th>180</th>\n      <td>0</td>\n      <td>0</td>\n      <td>0</td>\n      <td>0</td>\n      <td>0</td>\n    </tr>\n    <tr>\n      <th>181</th>\n      <td>0</td>\n      <td>0</td>\n      <td>0</td>\n      <td>0</td>\n      <td>0</td>\n    </tr>\n    <tr>\n      <th>182</th>\n      <td>0</td>\n      <td>0</td>\n      <td>0</td>\n      <td>0</td>\n      <td>0</td>\n    </tr>\n  </tbody>\n</table>\n<p>16468856 rows × 5 columns</p>\n</div>"
          },
          "metadata": {}
        }
      ]
    },
    {
      "cell_type": "code",
      "source": [
        "df_final = pd.concat([df_with_geom, pad_df])\n",
        "df_final.head(20)"
      ],
      "metadata": {
        "execution": {
          "iopub.status.busy": "2023-06-06T09:41:17.488847Z",
          "iopub.execute_input": "2023-06-06T09:41:17.489381Z",
          "iopub.status.idle": "2023-06-06T09:41:19.196648Z",
          "shell.execute_reply.started": "2023-06-06T09:41:17.489335Z",
          "shell.execute_reply": "2023-06-06T09:41:19.195173Z"
        },
        "trusted": true,
        "id": "FIOYWj4OGxqJ",
        "outputId": "4d129caf-161a-429e-ba1b-b021f7f7b3df"
      },
      "execution_count": null,
      "outputs": [
        {
          "execution_count": 33,
          "output_type": "execute_result",
          "data": {
            "text/plain": "                    sensor_id   time  charge  sensor_azimuth  sensor_zenith\nevent_id n_counter                                                         \n3266199  0               1775  10004   1.375       -0.116273      -1.386596\n         1               1776  10047   1.925       -0.116273      -1.354157\n         2               1774  10059   1.075       -0.116273      -1.419432\n         3               1166  10969   1.475       -0.569066       1.427733\n         4               1105  11028   1.875       -0.783732       1.334892\n         5               1106  11034   1.025       -0.783732       1.389699\n         6               1107  11066   1.275       -0.783732       1.445661\n         7               1167  11122   1.625       -0.569066       1.470974\n         8               1104  11173   1.275       -0.783732       1.281491\n         9               1109  11932   0.925       -0.783732       1.559557\n3266228  0               3897   9899   1.175        1.065710      -0.667515\n         1               3896   9947   1.225        1.065710      -0.686027\n         2               3898  10020   1.225        1.065710      -0.649834\n         3               3894  10037   2.675        1.065710      -0.725729\n         4               3410  10656   1.075        0.688363      -0.765643\n         5               3899  10766   1.075        1.065710      -0.632939\n         6               3941  10970   1.375        0.835790      -1.182844\n         7               3940  11051   1.025        0.835790      -1.215497\n         8               3409  11404   1.225        0.688363      -0.790814\n         9               3980  12301   0.275        0.684890       1.280561",
            "text/html": "<div>\n<style scoped>\n    .dataframe tbody tr th:only-of-type {\n        vertical-align: middle;\n    }\n\n    .dataframe tbody tr th {\n        vertical-align: top;\n    }\n\n    .dataframe thead th {\n        text-align: right;\n    }\n</style>\n<table border=\"1\" class=\"dataframe\">\n  <thead>\n    <tr style=\"text-align: right;\">\n      <th></th>\n      <th></th>\n      <th>sensor_id</th>\n      <th>time</th>\n      <th>charge</th>\n      <th>sensor_azimuth</th>\n      <th>sensor_zenith</th>\n    </tr>\n    <tr>\n      <th>event_id</th>\n      <th>n_counter</th>\n      <th></th>\n      <th></th>\n      <th></th>\n      <th></th>\n      <th></th>\n    </tr>\n  </thead>\n  <tbody>\n    <tr>\n      <th rowspan=\"10\" valign=\"top\">3266199</th>\n      <th>0</th>\n      <td>1775</td>\n      <td>10004</td>\n      <td>1.375</td>\n      <td>-0.116273</td>\n      <td>-1.386596</td>\n    </tr>\n    <tr>\n      <th>1</th>\n      <td>1776</td>\n      <td>10047</td>\n      <td>1.925</td>\n      <td>-0.116273</td>\n      <td>-1.354157</td>\n    </tr>\n    <tr>\n      <th>2</th>\n      <td>1774</td>\n      <td>10059</td>\n      <td>1.075</td>\n      <td>-0.116273</td>\n      <td>-1.419432</td>\n    </tr>\n    <tr>\n      <th>3</th>\n      <td>1166</td>\n      <td>10969</td>\n      <td>1.475</td>\n      <td>-0.569066</td>\n      <td>1.427733</td>\n    </tr>\n    <tr>\n      <th>4</th>\n      <td>1105</td>\n      <td>11028</td>\n      <td>1.875</td>\n      <td>-0.783732</td>\n      <td>1.334892</td>\n    </tr>\n    <tr>\n      <th>5</th>\n      <td>1106</td>\n      <td>11034</td>\n      <td>1.025</td>\n      <td>-0.783732</td>\n      <td>1.389699</td>\n    </tr>\n    <tr>\n      <th>6</th>\n      <td>1107</td>\n      <td>11066</td>\n      <td>1.275</td>\n      <td>-0.783732</td>\n      <td>1.445661</td>\n    </tr>\n    <tr>\n      <th>7</th>\n      <td>1167</td>\n      <td>11122</td>\n      <td>1.625</td>\n      <td>-0.569066</td>\n      <td>1.470974</td>\n    </tr>\n    <tr>\n      <th>8</th>\n      <td>1104</td>\n      <td>11173</td>\n      <td>1.275</td>\n      <td>-0.783732</td>\n      <td>1.281491</td>\n    </tr>\n    <tr>\n      <th>9</th>\n      <td>1109</td>\n      <td>11932</td>\n      <td>0.925</td>\n      <td>-0.783732</td>\n      <td>1.559557</td>\n    </tr>\n    <tr>\n      <th rowspan=\"10\" valign=\"top\">3266228</th>\n      <th>0</th>\n      <td>3897</td>\n      <td>9899</td>\n      <td>1.175</td>\n      <td>1.065710</td>\n      <td>-0.667515</td>\n    </tr>\n    <tr>\n      <th>1</th>\n      <td>3896</td>\n      <td>9947</td>\n      <td>1.225</td>\n      <td>1.065710</td>\n      <td>-0.686027</td>\n    </tr>\n    <tr>\n      <th>2</th>\n      <td>3898</td>\n      <td>10020</td>\n      <td>1.225</td>\n      <td>1.065710</td>\n      <td>-0.649834</td>\n    </tr>\n    <tr>\n      <th>3</th>\n      <td>3894</td>\n      <td>10037</td>\n      <td>2.675</td>\n      <td>1.065710</td>\n      <td>-0.725729</td>\n    </tr>\n    <tr>\n      <th>4</th>\n      <td>3410</td>\n      <td>10656</td>\n      <td>1.075</td>\n      <td>0.688363</td>\n      <td>-0.765643</td>\n    </tr>\n    <tr>\n      <th>5</th>\n      <td>3899</td>\n      <td>10766</td>\n      <td>1.075</td>\n      <td>1.065710</td>\n      <td>-0.632939</td>\n    </tr>\n    <tr>\n      <th>6</th>\n      <td>3941</td>\n      <td>10970</td>\n      <td>1.375</td>\n      <td>0.835790</td>\n      <td>-1.182844</td>\n    </tr>\n    <tr>\n      <th>7</th>\n      <td>3940</td>\n      <td>11051</td>\n      <td>1.025</td>\n      <td>0.835790</td>\n      <td>-1.215497</td>\n    </tr>\n    <tr>\n      <th>8</th>\n      <td>3409</td>\n      <td>11404</td>\n      <td>1.225</td>\n      <td>0.688363</td>\n      <td>-0.790814</td>\n    </tr>\n    <tr>\n      <th>9</th>\n      <td>3980</td>\n      <td>12301</td>\n      <td>0.275</td>\n      <td>0.684890</td>\n      <td>1.280561</td>\n    </tr>\n  </tbody>\n</table>\n</div>"
          },
          "metadata": {}
        }
      ]
    },
    {
      "cell_type": "code",
      "source": [
        "# sort by index\n",
        "df_final = df_final.sort_index(level = 0)\n",
        "#df_final = df_final.reset_index(level= 'n_counter')\n",
        "df_final.head(20)"
      ],
      "metadata": {
        "execution": {
          "iopub.status.busy": "2023-06-06T09:41:24.616050Z",
          "iopub.execute_input": "2023-06-06T09:41:24.616516Z",
          "iopub.status.idle": "2023-06-06T09:41:27.160377Z",
          "shell.execute_reply.started": "2023-06-06T09:41:24.616470Z",
          "shell.execute_reply": "2023-06-06T09:41:27.158929Z"
        },
        "trusted": true,
        "id": "wZvSP34cGxqL",
        "outputId": "d2c87943-84bd-44fd-e169-8afd6fca88c9"
      },
      "execution_count": null,
      "outputs": [
        {
          "execution_count": 34,
          "output_type": "execute_result",
          "data": {
            "text/plain": "                    sensor_id   time  charge  sensor_azimuth  sensor_zenith\nevent_id n_counter                                                         \n3266199  0               1775  10004   1.375       -0.116273      -1.386596\n         1               1776  10047   1.925       -0.116273      -1.354157\n         2               1774  10059   1.075       -0.116273      -1.419432\n         3               1166  10969   1.475       -0.569066       1.427733\n         4               1105  11028   1.875       -0.783732       1.334892\n         5               1106  11034   1.025       -0.783732       1.389699\n         6               1107  11066   1.275       -0.783732       1.445661\n         7               1167  11122   1.625       -0.569066       1.470974\n         8               1104  11173   1.275       -0.783732       1.281491\n         9               1109  11932   0.925       -0.783732       1.559557\n         100                0      0   0.000        0.000000       0.000000\n         101                0      0   0.000        0.000000       0.000000\n         102                0      0   0.000        0.000000       0.000000\n         103                0      0   0.000        0.000000       0.000000\n         104                0      0   0.000        0.000000       0.000000\n         105                0      0   0.000        0.000000       0.000000\n         106                0      0   0.000        0.000000       0.000000\n         107                0      0   0.000        0.000000       0.000000\n         108                0      0   0.000        0.000000       0.000000\n         109                0      0   0.000        0.000000       0.000000",
            "text/html": "<div>\n<style scoped>\n    .dataframe tbody tr th:only-of-type {\n        vertical-align: middle;\n    }\n\n    .dataframe tbody tr th {\n        vertical-align: top;\n    }\n\n    .dataframe thead th {\n        text-align: right;\n    }\n</style>\n<table border=\"1\" class=\"dataframe\">\n  <thead>\n    <tr style=\"text-align: right;\">\n      <th></th>\n      <th></th>\n      <th>sensor_id</th>\n      <th>time</th>\n      <th>charge</th>\n      <th>sensor_azimuth</th>\n      <th>sensor_zenith</th>\n    </tr>\n    <tr>\n      <th>event_id</th>\n      <th>n_counter</th>\n      <th></th>\n      <th></th>\n      <th></th>\n      <th></th>\n      <th></th>\n    </tr>\n  </thead>\n  <tbody>\n    <tr>\n      <th rowspan=\"20\" valign=\"top\">3266199</th>\n      <th>0</th>\n      <td>1775</td>\n      <td>10004</td>\n      <td>1.375</td>\n      <td>-0.116273</td>\n      <td>-1.386596</td>\n    </tr>\n    <tr>\n      <th>1</th>\n      <td>1776</td>\n      <td>10047</td>\n      <td>1.925</td>\n      <td>-0.116273</td>\n      <td>-1.354157</td>\n    </tr>\n    <tr>\n      <th>2</th>\n      <td>1774</td>\n      <td>10059</td>\n      <td>1.075</td>\n      <td>-0.116273</td>\n      <td>-1.419432</td>\n    </tr>\n    <tr>\n      <th>3</th>\n      <td>1166</td>\n      <td>10969</td>\n      <td>1.475</td>\n      <td>-0.569066</td>\n      <td>1.427733</td>\n    </tr>\n    <tr>\n      <th>4</th>\n      <td>1105</td>\n      <td>11028</td>\n      <td>1.875</td>\n      <td>-0.783732</td>\n      <td>1.334892</td>\n    </tr>\n    <tr>\n      <th>5</th>\n      <td>1106</td>\n      <td>11034</td>\n      <td>1.025</td>\n      <td>-0.783732</td>\n      <td>1.389699</td>\n    </tr>\n    <tr>\n      <th>6</th>\n      <td>1107</td>\n      <td>11066</td>\n      <td>1.275</td>\n      <td>-0.783732</td>\n      <td>1.445661</td>\n    </tr>\n    <tr>\n      <th>7</th>\n      <td>1167</td>\n      <td>11122</td>\n      <td>1.625</td>\n      <td>-0.569066</td>\n      <td>1.470974</td>\n    </tr>\n    <tr>\n      <th>8</th>\n      <td>1104</td>\n      <td>11173</td>\n      <td>1.275</td>\n      <td>-0.783732</td>\n      <td>1.281491</td>\n    </tr>\n    <tr>\n      <th>9</th>\n      <td>1109</td>\n      <td>11932</td>\n      <td>0.925</td>\n      <td>-0.783732</td>\n      <td>1.559557</td>\n    </tr>\n    <tr>\n      <th>100</th>\n      <td>0</td>\n      <td>0</td>\n      <td>0.000</td>\n      <td>0.000000</td>\n      <td>0.000000</td>\n    </tr>\n    <tr>\n      <th>101</th>\n      <td>0</td>\n      <td>0</td>\n      <td>0.000</td>\n      <td>0.000000</td>\n      <td>0.000000</td>\n    </tr>\n    <tr>\n      <th>102</th>\n      <td>0</td>\n      <td>0</td>\n      <td>0.000</td>\n      <td>0.000000</td>\n      <td>0.000000</td>\n    </tr>\n    <tr>\n      <th>103</th>\n      <td>0</td>\n      <td>0</td>\n      <td>0.000</td>\n      <td>0.000000</td>\n      <td>0.000000</td>\n    </tr>\n    <tr>\n      <th>104</th>\n      <td>0</td>\n      <td>0</td>\n      <td>0.000</td>\n      <td>0.000000</td>\n      <td>0.000000</td>\n    </tr>\n    <tr>\n      <th>105</th>\n      <td>0</td>\n      <td>0</td>\n      <td>0.000</td>\n      <td>0.000000</td>\n      <td>0.000000</td>\n    </tr>\n    <tr>\n      <th>106</th>\n      <td>0</td>\n      <td>0</td>\n      <td>0.000</td>\n      <td>0.000000</td>\n      <td>0.000000</td>\n    </tr>\n    <tr>\n      <th>107</th>\n      <td>0</td>\n      <td>0</td>\n      <td>0.000</td>\n      <td>0.000000</td>\n      <td>0.000000</td>\n    </tr>\n    <tr>\n      <th>108</th>\n      <td>0</td>\n      <td>0</td>\n      <td>0.000</td>\n      <td>0.000000</td>\n      <td>0.000000</td>\n    </tr>\n    <tr>\n      <th>109</th>\n      <td>0</td>\n      <td>0</td>\n      <td>0.000</td>\n      <td>0.000000</td>\n      <td>0.000000</td>\n    </tr>\n  </tbody>\n</table>\n</div>"
          },
          "metadata": {}
        }
      ]
    },
    {
      "cell_type": "code",
      "source": [
        "df_final['counter'] = df_final.groupby('event_id').cumcount() \n",
        "df_final.head(30)"
      ],
      "metadata": {
        "execution": {
          "iopub.status.busy": "2023-06-06T09:43:01.039168Z",
          "iopub.execute_input": "2023-06-06T09:43:01.039650Z",
          "iopub.status.idle": "2023-06-06T09:43:03.357417Z",
          "shell.execute_reply.started": "2023-06-06T09:43:01.039610Z",
          "shell.execute_reply": "2023-06-06T09:43:03.356063Z"
        },
        "trusted": true,
        "id": "7RBbtoy6GxqN",
        "outputId": "0081b629-ce19-4ea3-9dab-64ea30b4dfb9"
      },
      "execution_count": null,
      "outputs": [
        {
          "execution_count": 36,
          "output_type": "execute_result",
          "data": {
            "text/plain": "                    sensor_id   time  charge  sensor_azimuth  sensor_zenith  \\\nevent_id n_counter                                                            \n3266199  0               1775  10004   1.375       -0.116273      -1.386596   \n         1               1776  10047   1.925       -0.116273      -1.354157   \n         2               1774  10059   1.075       -0.116273      -1.419432   \n         3               1166  10969   1.475       -0.569066       1.427733   \n         4               1105  11028   1.875       -0.783732       1.334892   \n         5               1106  11034   1.025       -0.783732       1.389699   \n         6               1107  11066   1.275       -0.783732       1.445661   \n         7               1167  11122   1.625       -0.569066       1.470974   \n         8               1104  11173   1.275       -0.783732       1.281491   \n         9               1109  11932   0.925       -0.783732       1.559557   \n         100                0      0   0.000        0.000000       0.000000   \n         101                0      0   0.000        0.000000       0.000000   \n         102                0      0   0.000        0.000000       0.000000   \n         103                0      0   0.000        0.000000       0.000000   \n         104                0      0   0.000        0.000000       0.000000   \n         105                0      0   0.000        0.000000       0.000000   \n         106                0      0   0.000        0.000000       0.000000   \n         107                0      0   0.000        0.000000       0.000000   \n         108                0      0   0.000        0.000000       0.000000   \n         109                0      0   0.000        0.000000       0.000000   \n         110                0      0   0.000        0.000000       0.000000   \n         111                0      0   0.000        0.000000       0.000000   \n         112                0      0   0.000        0.000000       0.000000   \n         113                0      0   0.000        0.000000       0.000000   \n         114                0      0   0.000        0.000000       0.000000   \n         115                0      0   0.000        0.000000       0.000000   \n         116                0      0   0.000        0.000000       0.000000   \n         117                0      0   0.000        0.000000       0.000000   \n         118                0      0   0.000        0.000000       0.000000   \n         119                0      0   0.000        0.000000       0.000000   \n\n                    counter  \nevent_id n_counter           \n3266199  0                0  \n         1                1  \n         2                2  \n         3                3  \n         4                4  \n         5                5  \n         6                6  \n         7                7  \n         8                8  \n         9                9  \n         100             10  \n         101             11  \n         102             12  \n         103             13  \n         104             14  \n         105             15  \n         106             16  \n         107             17  \n         108             18  \n         109             19  \n         110             20  \n         111             21  \n         112             22  \n         113             23  \n         114             24  \n         115             25  \n         116             26  \n         117             27  \n         118             28  \n         119             29  ",
            "text/html": "<div>\n<style scoped>\n    .dataframe tbody tr th:only-of-type {\n        vertical-align: middle;\n    }\n\n    .dataframe tbody tr th {\n        vertical-align: top;\n    }\n\n    .dataframe thead th {\n        text-align: right;\n    }\n</style>\n<table border=\"1\" class=\"dataframe\">\n  <thead>\n    <tr style=\"text-align: right;\">\n      <th></th>\n      <th></th>\n      <th>sensor_id</th>\n      <th>time</th>\n      <th>charge</th>\n      <th>sensor_azimuth</th>\n      <th>sensor_zenith</th>\n      <th>counter</th>\n    </tr>\n    <tr>\n      <th>event_id</th>\n      <th>n_counter</th>\n      <th></th>\n      <th></th>\n      <th></th>\n      <th></th>\n      <th></th>\n      <th></th>\n    </tr>\n  </thead>\n  <tbody>\n    <tr>\n      <th rowspan=\"30\" valign=\"top\">3266199</th>\n      <th>0</th>\n      <td>1775</td>\n      <td>10004</td>\n      <td>1.375</td>\n      <td>-0.116273</td>\n      <td>-1.386596</td>\n      <td>0</td>\n    </tr>\n    <tr>\n      <th>1</th>\n      <td>1776</td>\n      <td>10047</td>\n      <td>1.925</td>\n      <td>-0.116273</td>\n      <td>-1.354157</td>\n      <td>1</td>\n    </tr>\n    <tr>\n      <th>2</th>\n      <td>1774</td>\n      <td>10059</td>\n      <td>1.075</td>\n      <td>-0.116273</td>\n      <td>-1.419432</td>\n      <td>2</td>\n    </tr>\n    <tr>\n      <th>3</th>\n      <td>1166</td>\n      <td>10969</td>\n      <td>1.475</td>\n      <td>-0.569066</td>\n      <td>1.427733</td>\n      <td>3</td>\n    </tr>\n    <tr>\n      <th>4</th>\n      <td>1105</td>\n      <td>11028</td>\n      <td>1.875</td>\n      <td>-0.783732</td>\n      <td>1.334892</td>\n      <td>4</td>\n    </tr>\n    <tr>\n      <th>5</th>\n      <td>1106</td>\n      <td>11034</td>\n      <td>1.025</td>\n      <td>-0.783732</td>\n      <td>1.389699</td>\n      <td>5</td>\n    </tr>\n    <tr>\n      <th>6</th>\n      <td>1107</td>\n      <td>11066</td>\n      <td>1.275</td>\n      <td>-0.783732</td>\n      <td>1.445661</td>\n      <td>6</td>\n    </tr>\n    <tr>\n      <th>7</th>\n      <td>1167</td>\n      <td>11122</td>\n      <td>1.625</td>\n      <td>-0.569066</td>\n      <td>1.470974</td>\n      <td>7</td>\n    </tr>\n    <tr>\n      <th>8</th>\n      <td>1104</td>\n      <td>11173</td>\n      <td>1.275</td>\n      <td>-0.783732</td>\n      <td>1.281491</td>\n      <td>8</td>\n    </tr>\n    <tr>\n      <th>9</th>\n      <td>1109</td>\n      <td>11932</td>\n      <td>0.925</td>\n      <td>-0.783732</td>\n      <td>1.559557</td>\n      <td>9</td>\n    </tr>\n    <tr>\n      <th>100</th>\n      <td>0</td>\n      <td>0</td>\n      <td>0.000</td>\n      <td>0.000000</td>\n      <td>0.000000</td>\n      <td>10</td>\n    </tr>\n    <tr>\n      <th>101</th>\n      <td>0</td>\n      <td>0</td>\n      <td>0.000</td>\n      <td>0.000000</td>\n      <td>0.000000</td>\n      <td>11</td>\n    </tr>\n    <tr>\n      <th>102</th>\n      <td>0</td>\n      <td>0</td>\n      <td>0.000</td>\n      <td>0.000000</td>\n      <td>0.000000</td>\n      <td>12</td>\n    </tr>\n    <tr>\n      <th>103</th>\n      <td>0</td>\n      <td>0</td>\n      <td>0.000</td>\n      <td>0.000000</td>\n      <td>0.000000</td>\n      <td>13</td>\n    </tr>\n    <tr>\n      <th>104</th>\n      <td>0</td>\n      <td>0</td>\n      <td>0.000</td>\n      <td>0.000000</td>\n      <td>0.000000</td>\n      <td>14</td>\n    </tr>\n    <tr>\n      <th>105</th>\n      <td>0</td>\n      <td>0</td>\n      <td>0.000</td>\n      <td>0.000000</td>\n      <td>0.000000</td>\n      <td>15</td>\n    </tr>\n    <tr>\n      <th>106</th>\n      <td>0</td>\n      <td>0</td>\n      <td>0.000</td>\n      <td>0.000000</td>\n      <td>0.000000</td>\n      <td>16</td>\n    </tr>\n    <tr>\n      <th>107</th>\n      <td>0</td>\n      <td>0</td>\n      <td>0.000</td>\n      <td>0.000000</td>\n      <td>0.000000</td>\n      <td>17</td>\n    </tr>\n    <tr>\n      <th>108</th>\n      <td>0</td>\n      <td>0</td>\n      <td>0.000</td>\n      <td>0.000000</td>\n      <td>0.000000</td>\n      <td>18</td>\n    </tr>\n    <tr>\n      <th>109</th>\n      <td>0</td>\n      <td>0</td>\n      <td>0.000</td>\n      <td>0.000000</td>\n      <td>0.000000</td>\n      <td>19</td>\n    </tr>\n    <tr>\n      <th>110</th>\n      <td>0</td>\n      <td>0</td>\n      <td>0.000</td>\n      <td>0.000000</td>\n      <td>0.000000</td>\n      <td>20</td>\n    </tr>\n    <tr>\n      <th>111</th>\n      <td>0</td>\n      <td>0</td>\n      <td>0.000</td>\n      <td>0.000000</td>\n      <td>0.000000</td>\n      <td>21</td>\n    </tr>\n    <tr>\n      <th>112</th>\n      <td>0</td>\n      <td>0</td>\n      <td>0.000</td>\n      <td>0.000000</td>\n      <td>0.000000</td>\n      <td>22</td>\n    </tr>\n    <tr>\n      <th>113</th>\n      <td>0</td>\n      <td>0</td>\n      <td>0.000</td>\n      <td>0.000000</td>\n      <td>0.000000</td>\n      <td>23</td>\n    </tr>\n    <tr>\n      <th>114</th>\n      <td>0</td>\n      <td>0</td>\n      <td>0.000</td>\n      <td>0.000000</td>\n      <td>0.000000</td>\n      <td>24</td>\n    </tr>\n    <tr>\n      <th>115</th>\n      <td>0</td>\n      <td>0</td>\n      <td>0.000</td>\n      <td>0.000000</td>\n      <td>0.000000</td>\n      <td>25</td>\n    </tr>\n    <tr>\n      <th>116</th>\n      <td>0</td>\n      <td>0</td>\n      <td>0.000</td>\n      <td>0.000000</td>\n      <td>0.000000</td>\n      <td>26</td>\n    </tr>\n    <tr>\n      <th>117</th>\n      <td>0</td>\n      <td>0</td>\n      <td>0.000</td>\n      <td>0.000000</td>\n      <td>0.000000</td>\n      <td>27</td>\n    </tr>\n    <tr>\n      <th>118</th>\n      <td>0</td>\n      <td>0</td>\n      <td>0.000</td>\n      <td>0.000000</td>\n      <td>0.000000</td>\n      <td>28</td>\n    </tr>\n    <tr>\n      <th>119</th>\n      <td>0</td>\n      <td>0</td>\n      <td>0.000</td>\n      <td>0.000000</td>\n      <td>0.000000</td>\n      <td>29</td>\n    </tr>\n  </tbody>\n</table>\n</div>"
          },
          "metadata": {}
        }
      ]
    },
    {
      "cell_type": "code",
      "source": [
        "df_final = df_final.set_index(['event_id', 'counter'])\n",
        "df_final.head(20)"
      ],
      "metadata": {
        "execution": {
          "iopub.status.busy": "2023-06-06T09:43:45.483545Z",
          "iopub.execute_input": "2023-06-06T09:43:45.483984Z",
          "iopub.status.idle": "2023-06-06T09:43:45.520358Z",
          "shell.execute_reply.started": "2023-06-06T09:43:45.483947Z",
          "shell.execute_reply": "2023-06-06T09:43:45.518670Z"
        },
        "trusted": true,
        "id": "8pUaiFD5GxqP",
        "outputId": "064ae1bf-68c1-4891-9536-67c543744c0e"
      },
      "execution_count": null,
      "outputs": [
        {
          "traceback": [
            "\u001b[0;31m---------------------------------------------------------------------------\u001b[0m",
            "\u001b[0;31mKeyError\u001b[0m                                  Traceback (most recent call last)",
            "\u001b[0;32m/tmp/ipykernel_27/710548993.py\u001b[0m in \u001b[0;36m<module>\u001b[0;34m\u001b[0m\n\u001b[0;32m----> 1\u001b[0;31m \u001b[0mdf_final\u001b[0m \u001b[0;34m=\u001b[0m \u001b[0mdf_final\u001b[0m\u001b[0;34m.\u001b[0m\u001b[0mset_index\u001b[0m\u001b[0;34m(\u001b[0m\u001b[0;34m[\u001b[0m\u001b[0;34m'event_id'\u001b[0m\u001b[0;34m,\u001b[0m \u001b[0;34m'counter'\u001b[0m\u001b[0;34m]\u001b[0m\u001b[0;34m)\u001b[0m\u001b[0;34m\u001b[0m\u001b[0;34m\u001b[0m\u001b[0m\n\u001b[0m\u001b[1;32m      2\u001b[0m \u001b[0mdf_final\u001b[0m\u001b[0;34m.\u001b[0m\u001b[0mhead\u001b[0m\u001b[0;34m(\u001b[0m\u001b[0;36m20\u001b[0m\u001b[0;34m)\u001b[0m\u001b[0;34m\u001b[0m\u001b[0;34m\u001b[0m\u001b[0m\n",
            "\u001b[0;32m/opt/conda/lib/python3.7/site-packages/pandas/util/_decorators.py\u001b[0m in \u001b[0;36mwrapper\u001b[0;34m(*args, **kwargs)\u001b[0m\n\u001b[1;32m    309\u001b[0m                     \u001b[0mstacklevel\u001b[0m\u001b[0;34m=\u001b[0m\u001b[0mstacklevel\u001b[0m\u001b[0;34m,\u001b[0m\u001b[0;34m\u001b[0m\u001b[0;34m\u001b[0m\u001b[0m\n\u001b[1;32m    310\u001b[0m                 )\n\u001b[0;32m--> 311\u001b[0;31m             \u001b[0;32mreturn\u001b[0m \u001b[0mfunc\u001b[0m\u001b[0;34m(\u001b[0m\u001b[0;34m*\u001b[0m\u001b[0margs\u001b[0m\u001b[0;34m,\u001b[0m \u001b[0;34m**\u001b[0m\u001b[0mkwargs\u001b[0m\u001b[0;34m)\u001b[0m\u001b[0;34m\u001b[0m\u001b[0;34m\u001b[0m\u001b[0m\n\u001b[0m\u001b[1;32m    312\u001b[0m \u001b[0;34m\u001b[0m\u001b[0m\n\u001b[1;32m    313\u001b[0m         \u001b[0;32mreturn\u001b[0m \u001b[0mwrapper\u001b[0m\u001b[0;34m\u001b[0m\u001b[0;34m\u001b[0m\u001b[0m\n",
            "\u001b[0;32m/opt/conda/lib/python3.7/site-packages/pandas/core/frame.py\u001b[0m in \u001b[0;36mset_index\u001b[0;34m(self, keys, drop, append, inplace, verify_integrity)\u001b[0m\n\u001b[1;32m   5449\u001b[0m \u001b[0;34m\u001b[0m\u001b[0m\n\u001b[1;32m   5450\u001b[0m         \u001b[0;32mif\u001b[0m \u001b[0mmissing\u001b[0m\u001b[0;34m:\u001b[0m\u001b[0;34m\u001b[0m\u001b[0;34m\u001b[0m\u001b[0m\n\u001b[0;32m-> 5451\u001b[0;31m             \u001b[0;32mraise\u001b[0m \u001b[0mKeyError\u001b[0m\u001b[0;34m(\u001b[0m\u001b[0;34mf\"None of {missing} are in the columns\"\u001b[0m\u001b[0;34m)\u001b[0m\u001b[0;34m\u001b[0m\u001b[0;34m\u001b[0m\u001b[0m\n\u001b[0m\u001b[1;32m   5452\u001b[0m \u001b[0;34m\u001b[0m\u001b[0m\n\u001b[1;32m   5453\u001b[0m         \u001b[0;32mif\u001b[0m \u001b[0minplace\u001b[0m\u001b[0;34m:\u001b[0m\u001b[0;34m\u001b[0m\u001b[0;34m\u001b[0m\u001b[0m\n",
            "\u001b[0;31mKeyError\u001b[0m: \"None of ['event_id'] are in the columns\""
          ],
          "ename": "KeyError",
          "evalue": "\"None of ['event_id'] are in the columns\"",
          "output_type": "error"
        }
      ]
    },
    {
      "cell_type": "code",
      "source": [],
      "metadata": {
        "execution": {
          "iopub.status.busy": "2023-06-05T13:23:50.125272Z",
          "iopub.execute_input": "2023-06-05T13:23:50.125762Z",
          "iopub.status.idle": "2023-06-05T13:23:50.355820Z",
          "shell.execute_reply.started": "2023-06-05T13:23:50.125721Z",
          "shell.execute_reply": "2023-06-05T13:23:50.354716Z"
        },
        "trusted": true,
        "id": "x_CL_WSZGxqS"
      },
      "execution_count": null,
      "outputs": []
    },
    {
      "cell_type": "code",
      "source": [
        "del df_with_geom"
      ],
      "metadata": {
        "execution": {
          "iopub.status.busy": "2023-06-05T13:06:48.563961Z",
          "iopub.execute_input": "2023-06-05T13:06:48.564358Z",
          "iopub.status.idle": "2023-06-05T13:06:48.573247Z",
          "shell.execute_reply.started": "2023-06-05T13:06:48.564322Z",
          "shell.execute_reply": "2023-06-05T13:06:48.571969Z"
        },
        "trusted": true,
        "id": "Dxjb3Rq9GxqU"
      },
      "execution_count": null,
      "outputs": []
    },
    {
      "cell_type": "code",
      "source": [
        "df_final.head(10)"
      ],
      "metadata": {
        "execution": {
          "iopub.status.busy": "2023-06-05T13:24:04.202122Z",
          "iopub.execute_input": "2023-06-05T13:24:04.202644Z",
          "iopub.status.idle": "2023-06-05T13:24:04.222882Z",
          "shell.execute_reply.started": "2023-06-05T13:24:04.202598Z",
          "shell.execute_reply": "2023-06-05T13:24:04.221483Z"
        },
        "trusted": true,
        "id": "YvJQmyNlGxqW",
        "outputId": "e537b6a4-30fe-4b14-af6e-55bedc25deb2"
      },
      "execution_count": null,
      "outputs": [
        {
          "execution_count": 43,
          "output_type": "execute_result",
          "data": {
            "text/plain": "             time  charge  sensor_azimuth  sensor_zenith\nevent_id                                                \n3266199  0  10004   1.375       -0.116273      -1.386596\n         1      0   0.000        0.000000       0.000000\n         2      0   0.000        0.000000       0.000000\n         3      0   0.000        0.000000       0.000000\n         4      0   0.000        0.000000       0.000000\n         5      0   0.000        0.000000       0.000000\n         6      0   0.000        0.000000       0.000000\n         7      0   0.000        0.000000       0.000000\n         8      0   0.000        0.000000       0.000000\n         9      0   0.000        0.000000       0.000000",
            "text/html": "<div>\n<style scoped>\n    .dataframe tbody tr th:only-of-type {\n        vertical-align: middle;\n    }\n\n    .dataframe tbody tr th {\n        vertical-align: top;\n    }\n\n    .dataframe thead th {\n        text-align: right;\n    }\n</style>\n<table border=\"1\" class=\"dataframe\">\n  <thead>\n    <tr style=\"text-align: right;\">\n      <th></th>\n      <th></th>\n      <th>time</th>\n      <th>charge</th>\n      <th>sensor_azimuth</th>\n      <th>sensor_zenith</th>\n    </tr>\n    <tr>\n      <th>event_id</th>\n      <th></th>\n      <th></th>\n      <th></th>\n      <th></th>\n      <th></th>\n    </tr>\n  </thead>\n  <tbody>\n    <tr>\n      <th rowspan=\"10\" valign=\"top\">3266199</th>\n      <th>0</th>\n      <td>10004</td>\n      <td>1.375</td>\n      <td>-0.116273</td>\n      <td>-1.386596</td>\n    </tr>\n    <tr>\n      <th>1</th>\n      <td>0</td>\n      <td>0.000</td>\n      <td>0.000000</td>\n      <td>0.000000</td>\n    </tr>\n    <tr>\n      <th>2</th>\n      <td>0</td>\n      <td>0.000</td>\n      <td>0.000000</td>\n      <td>0.000000</td>\n    </tr>\n    <tr>\n      <th>3</th>\n      <td>0</td>\n      <td>0.000</td>\n      <td>0.000000</td>\n      <td>0.000000</td>\n    </tr>\n    <tr>\n      <th>4</th>\n      <td>0</td>\n      <td>0.000</td>\n      <td>0.000000</td>\n      <td>0.000000</td>\n    </tr>\n    <tr>\n      <th>5</th>\n      <td>0</td>\n      <td>0.000</td>\n      <td>0.000000</td>\n      <td>0.000000</td>\n    </tr>\n    <tr>\n      <th>6</th>\n      <td>0</td>\n      <td>0.000</td>\n      <td>0.000000</td>\n      <td>0.000000</td>\n    </tr>\n    <tr>\n      <th>7</th>\n      <td>0</td>\n      <td>0.000</td>\n      <td>0.000000</td>\n      <td>0.000000</td>\n    </tr>\n    <tr>\n      <th>8</th>\n      <td>0</td>\n      <td>0.000</td>\n      <td>0.000000</td>\n      <td>0.000000</td>\n    </tr>\n    <tr>\n      <th>9</th>\n      <td>0</td>\n      <td>0.000</td>\n      <td>0.000000</td>\n      <td>0.000000</td>\n    </tr>\n  </tbody>\n</table>\n</div>"
          },
          "metadata": {}
        }
      ]
    },
    {
      "cell_type": "code",
      "source": [],
      "metadata": {
        "execution": {
          "iopub.status.busy": "2023-06-05T13:37:45.810553Z",
          "iopub.execute_input": "2023-06-05T13:37:45.811680Z",
          "iopub.status.idle": "2023-06-05T13:37:46.165354Z",
          "shell.execute_reply.started": "2023-06-05T13:37:45.811624Z",
          "shell.execute_reply": "2023-06-05T13:37:46.164093Z"
        },
        "trusted": true,
        "id": "CsdZhCbsGxqZ",
        "outputId": "ac22bd34-062d-4981-8bd5-8636ca02def7"
      },
      "execution_count": null,
      "outputs": [
        {
          "execution_count": 30,
          "output_type": "execute_result",
          "data": {
            "text/plain": "         batch_id   event_id  first_pulse_index  last_pulse_index   azimuth  \\\n3266199        17   53159869           10814344          10814394  3.548180   \n3266228        17   53160228           10816254          10816298  5.036001   \n3266282        17   53161017           10820603          10820849  3.483392   \n3266329        17   53161812           10824429          10824471  2.483661   \n3266370        17   53162515           10830603          10830664  0.281627   \n...           ...        ...                ...               ...       ...   \n6517762        33  106037408           18621691          18621747  1.932869   \n6517770        33  106037534           18622393          18622433  4.424092   \n6517775        33  106037665           18622792          18622862  3.450834   \n6517794        33  106038020           18624232          18624340  5.193504   \n6517807        33  106038168           18625460          18625503  4.643889   \n\n           zenith  \n3266199  1.127325  \n3266228  2.185961  \n3266282  1.291909  \n3266329  0.659159  \n3266370  2.708783  \n...           ...  \n6517762  0.828631  \n6517770  2.574416  \n6517775  2.193151  \n6517794  2.408181  \n6517807  0.883460  \n\n[200000 rows x 6 columns]",
            "text/html": "<div>\n<style scoped>\n    .dataframe tbody tr th:only-of-type {\n        vertical-align: middle;\n    }\n\n    .dataframe tbody tr th {\n        vertical-align: top;\n    }\n\n    .dataframe thead th {\n        text-align: right;\n    }\n</style>\n<table border=\"1\" class=\"dataframe\">\n  <thead>\n    <tr style=\"text-align: right;\">\n      <th></th>\n      <th>batch_id</th>\n      <th>event_id</th>\n      <th>first_pulse_index</th>\n      <th>last_pulse_index</th>\n      <th>azimuth</th>\n      <th>zenith</th>\n    </tr>\n  </thead>\n  <tbody>\n    <tr>\n      <th>3266199</th>\n      <td>17</td>\n      <td>53159869</td>\n      <td>10814344</td>\n      <td>10814394</td>\n      <td>3.548180</td>\n      <td>1.127325</td>\n    </tr>\n    <tr>\n      <th>3266228</th>\n      <td>17</td>\n      <td>53160228</td>\n      <td>10816254</td>\n      <td>10816298</td>\n      <td>5.036001</td>\n      <td>2.185961</td>\n    </tr>\n    <tr>\n      <th>3266282</th>\n      <td>17</td>\n      <td>53161017</td>\n      <td>10820603</td>\n      <td>10820849</td>\n      <td>3.483392</td>\n      <td>1.291909</td>\n    </tr>\n    <tr>\n      <th>3266329</th>\n      <td>17</td>\n      <td>53161812</td>\n      <td>10824429</td>\n      <td>10824471</td>\n      <td>2.483661</td>\n      <td>0.659159</td>\n    </tr>\n    <tr>\n      <th>3266370</th>\n      <td>17</td>\n      <td>53162515</td>\n      <td>10830603</td>\n      <td>10830664</td>\n      <td>0.281627</td>\n      <td>2.708783</td>\n    </tr>\n    <tr>\n      <th>...</th>\n      <td>...</td>\n      <td>...</td>\n      <td>...</td>\n      <td>...</td>\n      <td>...</td>\n      <td>...</td>\n    </tr>\n    <tr>\n      <th>6517762</th>\n      <td>33</td>\n      <td>106037408</td>\n      <td>18621691</td>\n      <td>18621747</td>\n      <td>1.932869</td>\n      <td>0.828631</td>\n    </tr>\n    <tr>\n      <th>6517770</th>\n      <td>33</td>\n      <td>106037534</td>\n      <td>18622393</td>\n      <td>18622433</td>\n      <td>4.424092</td>\n      <td>2.574416</td>\n    </tr>\n    <tr>\n      <th>6517775</th>\n      <td>33</td>\n      <td>106037665</td>\n      <td>18622792</td>\n      <td>18622862</td>\n      <td>3.450834</td>\n      <td>2.193151</td>\n    </tr>\n    <tr>\n      <th>6517794</th>\n      <td>33</td>\n      <td>106038020</td>\n      <td>18624232</td>\n      <td>18624340</td>\n      <td>5.193504</td>\n      <td>2.408181</td>\n    </tr>\n    <tr>\n      <th>6517807</th>\n      <td>33</td>\n      <td>106038168</td>\n      <td>18625460</td>\n      <td>18625503</td>\n      <td>4.643889</td>\n      <td>0.883460</td>\n    </tr>\n  </tbody>\n</table>\n<p>200000 rows × 6 columns</p>\n</div>"
          },
          "metadata": {}
        }
      ]
    },
    {
      "cell_type": "code",
      "source": [
        "df_final1 = df_final.unstack(level = -1)\n",
        "df_final1.head(20)\n",
        "#df_final1.columns"
      ],
      "metadata": {
        "_kg_hide-output": true,
        "execution": {
          "iopub.status.busy": "2023-06-05T14:32:04.516690Z",
          "iopub.execute_input": "2023-06-05T14:32:04.518378Z",
          "iopub.status.idle": "2023-06-05T14:32:13.314903Z",
          "shell.execute_reply.started": "2023-06-05T14:32:04.518334Z",
          "shell.execute_reply": "2023-06-05T14:32:13.312217Z"
        },
        "trusted": true,
        "id": "eq0XX7PNGxqc",
        "outputId": "ac5c9e18-95cb-493c-e012-9571beb58cb4"
      },
      "execution_count": null,
      "outputs": [
        {
          "execution_count": 20,
          "output_type": "execute_result",
          "data": {
            "text/plain": "         sensor_id                                                        ...  \\\n                0     1     2     3     4     5     6     7     8     9   ...   \nevent_id                                                                  ...   \n3266199       1775  1776  1774  1166  1105  1106  1107  1167  1104  1109  ...   \n3266228       3897  3896  3898  3894  3410  3899  3941  3940  3409  3980  ...   \n3266282        732  1143   734  1141  1142  1140     0     0     0     0  ...   \n3266329       2380  2381  2383  2384  2382  2387  2995  2388  2990  2996  ...   \n3266370       4363  4362  4364  4360  3940  3941     0     0     0     0  ...   \n3266371       2713  2715  2712  2173  2174     0     0     0     0     0  ...   \n3266394       4022  4024  4023  4021  4025  4029  4028     0     0     0  ...   \n3266395       2765  2762  2174  2176  2763  1645  1643  1641     0     0  ...   \n3266426       4321  4324  4320  4325  4269  4272  4326  4273  4268  4270  ...   \n3266435        592  1069  1068   593  1666  1665  4957  1731  1730  1664  ...   \n3266439       3301  3300  3303  3302  3305  2763  3367  2830  2832  2833  ...   \n3266442       2819  2818  2817  2816  2813  2811     0     0     0     0  ...   \n3266448       3523  3521  2235  2234  2236  2233  2237  2238  2230  2232  ...   \n3266478       4343  4342  4340  4341     0     0     0     0     0     0  ...   \n3266484       3943  3946  4007  4002  3464  3463  3940  3950  3948  3462  ...   \n3266488       3788  3791  3790  3795  3797  3748  3750  3752  3747  3745  ...   \n3266508       3147  2549  2608  3150  2548  2606  2547  3148  1403  1402  ...   \n3266525       3071  3070  3233  3296  3298  3232  2757  2755  2953  2357  ...   \n3266526       4435  4437  4378  4377     0     0     0     0     0     0  ...   \n3266529        261   262   639   642   645   644   281   646   648   283  ...   \n\n         sensor_zenith                                               \n                    90   91   92   93   94   95   96   97   98   99  \nevent_id                                                             \n3266199            0.0  0.0  0.0  0.0  0.0  0.0  0.0  0.0  0.0  0.0  \n3266228            0.0  0.0  0.0  0.0  0.0  0.0  0.0  0.0  0.0  0.0  \n3266282            0.0  0.0  0.0  0.0  0.0  0.0  0.0  0.0  0.0  0.0  \n3266329            0.0  0.0  0.0  0.0  0.0  0.0  0.0  0.0  0.0  0.0  \n3266370            0.0  0.0  0.0  0.0  0.0  0.0  0.0  0.0  0.0  0.0  \n3266371            0.0  0.0  0.0  0.0  0.0  0.0  0.0  0.0  0.0  0.0  \n3266394            0.0  0.0  0.0  0.0  0.0  0.0  0.0  0.0  0.0  0.0  \n3266395            0.0  0.0  0.0  0.0  0.0  0.0  0.0  0.0  0.0  0.0  \n3266426            0.0  0.0  0.0  0.0  0.0  0.0  0.0  0.0  0.0  0.0  \n3266435            0.0  0.0  0.0  0.0  0.0  0.0  0.0  0.0  0.0  0.0  \n3266439            0.0  0.0  0.0  0.0  0.0  0.0  0.0  0.0  0.0  0.0  \n3266442            0.0  0.0  0.0  0.0  0.0  0.0  0.0  0.0  0.0  0.0  \n3266448            0.0  0.0  0.0  0.0  0.0  0.0  0.0  0.0  0.0  0.0  \n3266478            0.0  0.0  0.0  0.0  0.0  0.0  0.0  0.0  0.0  0.0  \n3266484            0.0  0.0  0.0  0.0  0.0  0.0  0.0  0.0  0.0  0.0  \n3266488            0.0  0.0  0.0  0.0  0.0  0.0  0.0  0.0  0.0  0.0  \n3266508            0.0  0.0  0.0  0.0  0.0  0.0  0.0  0.0  0.0  0.0  \n3266525            0.0  0.0  0.0  0.0  0.0  0.0  0.0  0.0  0.0  0.0  \n3266526            0.0  0.0  0.0  0.0  0.0  0.0  0.0  0.0  0.0  0.0  \n3266529            0.0  0.0  0.0  0.0  0.0  0.0  0.0  0.0  0.0  0.0  \n\n[20 rows x 500 columns]",
            "text/html": "<div>\n<style scoped>\n    .dataframe tbody tr th:only-of-type {\n        vertical-align: middle;\n    }\n\n    .dataframe tbody tr th {\n        vertical-align: top;\n    }\n\n    .dataframe thead tr th {\n        text-align: left;\n    }\n\n    .dataframe thead tr:last-of-type th {\n        text-align: right;\n    }\n</style>\n<table border=\"1\" class=\"dataframe\">\n  <thead>\n    <tr>\n      <th></th>\n      <th colspan=\"10\" halign=\"left\">sensor_id</th>\n      <th>...</th>\n      <th colspan=\"10\" halign=\"left\">sensor_zenith</th>\n    </tr>\n    <tr>\n      <th></th>\n      <th>0</th>\n      <th>1</th>\n      <th>2</th>\n      <th>3</th>\n      <th>4</th>\n      <th>5</th>\n      <th>6</th>\n      <th>7</th>\n      <th>8</th>\n      <th>9</th>\n      <th>...</th>\n      <th>90</th>\n      <th>91</th>\n      <th>92</th>\n      <th>93</th>\n      <th>94</th>\n      <th>95</th>\n      <th>96</th>\n      <th>97</th>\n      <th>98</th>\n      <th>99</th>\n    </tr>\n    <tr>\n      <th>event_id</th>\n      <th></th>\n      <th></th>\n      <th></th>\n      <th></th>\n      <th></th>\n      <th></th>\n      <th></th>\n      <th></th>\n      <th></th>\n      <th></th>\n      <th></th>\n      <th></th>\n      <th></th>\n      <th></th>\n      <th></th>\n      <th></th>\n      <th></th>\n      <th></th>\n      <th></th>\n      <th></th>\n      <th></th>\n    </tr>\n  </thead>\n  <tbody>\n    <tr>\n      <th>3266199</th>\n      <td>1775</td>\n      <td>1776</td>\n      <td>1774</td>\n      <td>1166</td>\n      <td>1105</td>\n      <td>1106</td>\n      <td>1107</td>\n      <td>1167</td>\n      <td>1104</td>\n      <td>1109</td>\n      <td>...</td>\n      <td>0.0</td>\n      <td>0.0</td>\n      <td>0.0</td>\n      <td>0.0</td>\n      <td>0.0</td>\n      <td>0.0</td>\n      <td>0.0</td>\n      <td>0.0</td>\n      <td>0.0</td>\n      <td>0.0</td>\n    </tr>\n    <tr>\n      <th>3266228</th>\n      <td>3897</td>\n      <td>3896</td>\n      <td>3898</td>\n      <td>3894</td>\n      <td>3410</td>\n      <td>3899</td>\n      <td>3941</td>\n      <td>3940</td>\n      <td>3409</td>\n      <td>3980</td>\n      <td>...</td>\n      <td>0.0</td>\n      <td>0.0</td>\n      <td>0.0</td>\n      <td>0.0</td>\n      <td>0.0</td>\n      <td>0.0</td>\n      <td>0.0</td>\n      <td>0.0</td>\n      <td>0.0</td>\n      <td>0.0</td>\n    </tr>\n    <tr>\n      <th>3266282</th>\n      <td>732</td>\n      <td>1143</td>\n      <td>734</td>\n      <td>1141</td>\n      <td>1142</td>\n      <td>1140</td>\n      <td>0</td>\n      <td>0</td>\n      <td>0</td>\n      <td>0</td>\n      <td>...</td>\n      <td>0.0</td>\n      <td>0.0</td>\n      <td>0.0</td>\n      <td>0.0</td>\n      <td>0.0</td>\n      <td>0.0</td>\n      <td>0.0</td>\n      <td>0.0</td>\n      <td>0.0</td>\n      <td>0.0</td>\n    </tr>\n    <tr>\n      <th>3266329</th>\n      <td>2380</td>\n      <td>2381</td>\n      <td>2383</td>\n      <td>2384</td>\n      <td>2382</td>\n      <td>2387</td>\n      <td>2995</td>\n      <td>2388</td>\n      <td>2990</td>\n      <td>2996</td>\n      <td>...</td>\n      <td>0.0</td>\n      <td>0.0</td>\n      <td>0.0</td>\n      <td>0.0</td>\n      <td>0.0</td>\n      <td>0.0</td>\n      <td>0.0</td>\n      <td>0.0</td>\n      <td>0.0</td>\n      <td>0.0</td>\n    </tr>\n    <tr>\n      <th>3266370</th>\n      <td>4363</td>\n      <td>4362</td>\n      <td>4364</td>\n      <td>4360</td>\n      <td>3940</td>\n      <td>3941</td>\n      <td>0</td>\n      <td>0</td>\n      <td>0</td>\n      <td>0</td>\n      <td>...</td>\n      <td>0.0</td>\n      <td>0.0</td>\n      <td>0.0</td>\n      <td>0.0</td>\n      <td>0.0</td>\n      <td>0.0</td>\n      <td>0.0</td>\n      <td>0.0</td>\n      <td>0.0</td>\n      <td>0.0</td>\n    </tr>\n    <tr>\n      <th>3266371</th>\n      <td>2713</td>\n      <td>2715</td>\n      <td>2712</td>\n      <td>2173</td>\n      <td>2174</td>\n      <td>0</td>\n      <td>0</td>\n      <td>0</td>\n      <td>0</td>\n      <td>0</td>\n      <td>...</td>\n      <td>0.0</td>\n      <td>0.0</td>\n      <td>0.0</td>\n      <td>0.0</td>\n      <td>0.0</td>\n      <td>0.0</td>\n      <td>0.0</td>\n      <td>0.0</td>\n      <td>0.0</td>\n      <td>0.0</td>\n    </tr>\n    <tr>\n      <th>3266394</th>\n      <td>4022</td>\n      <td>4024</td>\n      <td>4023</td>\n      <td>4021</td>\n      <td>4025</td>\n      <td>4029</td>\n      <td>4028</td>\n      <td>0</td>\n      <td>0</td>\n      <td>0</td>\n      <td>...</td>\n      <td>0.0</td>\n      <td>0.0</td>\n      <td>0.0</td>\n      <td>0.0</td>\n      <td>0.0</td>\n      <td>0.0</td>\n      <td>0.0</td>\n      <td>0.0</td>\n      <td>0.0</td>\n      <td>0.0</td>\n    </tr>\n    <tr>\n      <th>3266395</th>\n      <td>2765</td>\n      <td>2762</td>\n      <td>2174</td>\n      <td>2176</td>\n      <td>2763</td>\n      <td>1645</td>\n      <td>1643</td>\n      <td>1641</td>\n      <td>0</td>\n      <td>0</td>\n      <td>...</td>\n      <td>0.0</td>\n      <td>0.0</td>\n      <td>0.0</td>\n      <td>0.0</td>\n      <td>0.0</td>\n      <td>0.0</td>\n      <td>0.0</td>\n      <td>0.0</td>\n      <td>0.0</td>\n      <td>0.0</td>\n    </tr>\n    <tr>\n      <th>3266426</th>\n      <td>4321</td>\n      <td>4324</td>\n      <td>4320</td>\n      <td>4325</td>\n      <td>4269</td>\n      <td>4272</td>\n      <td>4326</td>\n      <td>4273</td>\n      <td>4268</td>\n      <td>4270</td>\n      <td>...</td>\n      <td>0.0</td>\n      <td>0.0</td>\n      <td>0.0</td>\n      <td>0.0</td>\n      <td>0.0</td>\n      <td>0.0</td>\n      <td>0.0</td>\n      <td>0.0</td>\n      <td>0.0</td>\n      <td>0.0</td>\n    </tr>\n    <tr>\n      <th>3266435</th>\n      <td>592</td>\n      <td>1069</td>\n      <td>1068</td>\n      <td>593</td>\n      <td>1666</td>\n      <td>1665</td>\n      <td>4957</td>\n      <td>1731</td>\n      <td>1730</td>\n      <td>1664</td>\n      <td>...</td>\n      <td>0.0</td>\n      <td>0.0</td>\n      <td>0.0</td>\n      <td>0.0</td>\n      <td>0.0</td>\n      <td>0.0</td>\n      <td>0.0</td>\n      <td>0.0</td>\n      <td>0.0</td>\n      <td>0.0</td>\n    </tr>\n    <tr>\n      <th>3266439</th>\n      <td>3301</td>\n      <td>3300</td>\n      <td>3303</td>\n      <td>3302</td>\n      <td>3305</td>\n      <td>2763</td>\n      <td>3367</td>\n      <td>2830</td>\n      <td>2832</td>\n      <td>2833</td>\n      <td>...</td>\n      <td>0.0</td>\n      <td>0.0</td>\n      <td>0.0</td>\n      <td>0.0</td>\n      <td>0.0</td>\n      <td>0.0</td>\n      <td>0.0</td>\n      <td>0.0</td>\n      <td>0.0</td>\n      <td>0.0</td>\n    </tr>\n    <tr>\n      <th>3266442</th>\n      <td>2819</td>\n      <td>2818</td>\n      <td>2817</td>\n      <td>2816</td>\n      <td>2813</td>\n      <td>2811</td>\n      <td>0</td>\n      <td>0</td>\n      <td>0</td>\n      <td>0</td>\n      <td>...</td>\n      <td>0.0</td>\n      <td>0.0</td>\n      <td>0.0</td>\n      <td>0.0</td>\n      <td>0.0</td>\n      <td>0.0</td>\n      <td>0.0</td>\n      <td>0.0</td>\n      <td>0.0</td>\n      <td>0.0</td>\n    </tr>\n    <tr>\n      <th>3266448</th>\n      <td>3523</td>\n      <td>3521</td>\n      <td>2235</td>\n      <td>2234</td>\n      <td>2236</td>\n      <td>2233</td>\n      <td>2237</td>\n      <td>2238</td>\n      <td>2230</td>\n      <td>2232</td>\n      <td>...</td>\n      <td>0.0</td>\n      <td>0.0</td>\n      <td>0.0</td>\n      <td>0.0</td>\n      <td>0.0</td>\n      <td>0.0</td>\n      <td>0.0</td>\n      <td>0.0</td>\n      <td>0.0</td>\n      <td>0.0</td>\n    </tr>\n    <tr>\n      <th>3266478</th>\n      <td>4343</td>\n      <td>4342</td>\n      <td>4340</td>\n      <td>4341</td>\n      <td>0</td>\n      <td>0</td>\n      <td>0</td>\n      <td>0</td>\n      <td>0</td>\n      <td>0</td>\n      <td>...</td>\n      <td>0.0</td>\n      <td>0.0</td>\n      <td>0.0</td>\n      <td>0.0</td>\n      <td>0.0</td>\n      <td>0.0</td>\n      <td>0.0</td>\n      <td>0.0</td>\n      <td>0.0</td>\n      <td>0.0</td>\n    </tr>\n    <tr>\n      <th>3266484</th>\n      <td>3943</td>\n      <td>3946</td>\n      <td>4007</td>\n      <td>4002</td>\n      <td>3464</td>\n      <td>3463</td>\n      <td>3940</td>\n      <td>3950</td>\n      <td>3948</td>\n      <td>3462</td>\n      <td>...</td>\n      <td>0.0</td>\n      <td>0.0</td>\n      <td>0.0</td>\n      <td>0.0</td>\n      <td>0.0</td>\n      <td>0.0</td>\n      <td>0.0</td>\n      <td>0.0</td>\n      <td>0.0</td>\n      <td>0.0</td>\n    </tr>\n    <tr>\n      <th>3266488</th>\n      <td>3788</td>\n      <td>3791</td>\n      <td>3790</td>\n      <td>3795</td>\n      <td>3797</td>\n      <td>3748</td>\n      <td>3750</td>\n      <td>3752</td>\n      <td>3747</td>\n      <td>3745</td>\n      <td>...</td>\n      <td>0.0</td>\n      <td>0.0</td>\n      <td>0.0</td>\n      <td>0.0</td>\n      <td>0.0</td>\n      <td>0.0</td>\n      <td>0.0</td>\n      <td>0.0</td>\n      <td>0.0</td>\n      <td>0.0</td>\n    </tr>\n    <tr>\n      <th>3266508</th>\n      <td>3147</td>\n      <td>2549</td>\n      <td>2608</td>\n      <td>3150</td>\n      <td>2548</td>\n      <td>2606</td>\n      <td>2547</td>\n      <td>3148</td>\n      <td>1403</td>\n      <td>1402</td>\n      <td>...</td>\n      <td>0.0</td>\n      <td>0.0</td>\n      <td>0.0</td>\n      <td>0.0</td>\n      <td>0.0</td>\n      <td>0.0</td>\n      <td>0.0</td>\n      <td>0.0</td>\n      <td>0.0</td>\n      <td>0.0</td>\n    </tr>\n    <tr>\n      <th>3266525</th>\n      <td>3071</td>\n      <td>3070</td>\n      <td>3233</td>\n      <td>3296</td>\n      <td>3298</td>\n      <td>3232</td>\n      <td>2757</td>\n      <td>2755</td>\n      <td>2953</td>\n      <td>2357</td>\n      <td>...</td>\n      <td>0.0</td>\n      <td>0.0</td>\n      <td>0.0</td>\n      <td>0.0</td>\n      <td>0.0</td>\n      <td>0.0</td>\n      <td>0.0</td>\n      <td>0.0</td>\n      <td>0.0</td>\n      <td>0.0</td>\n    </tr>\n    <tr>\n      <th>3266526</th>\n      <td>4435</td>\n      <td>4437</td>\n      <td>4378</td>\n      <td>4377</td>\n      <td>0</td>\n      <td>0</td>\n      <td>0</td>\n      <td>0</td>\n      <td>0</td>\n      <td>0</td>\n      <td>...</td>\n      <td>0.0</td>\n      <td>0.0</td>\n      <td>0.0</td>\n      <td>0.0</td>\n      <td>0.0</td>\n      <td>0.0</td>\n      <td>0.0</td>\n      <td>0.0</td>\n      <td>0.0</td>\n      <td>0.0</td>\n    </tr>\n    <tr>\n      <th>3266529</th>\n      <td>261</td>\n      <td>262</td>\n      <td>639</td>\n      <td>642</td>\n      <td>645</td>\n      <td>644</td>\n      <td>281</td>\n      <td>646</td>\n      <td>648</td>\n      <td>283</td>\n      <td>...</td>\n      <td>0.0</td>\n      <td>0.0</td>\n      <td>0.0</td>\n      <td>0.0</td>\n      <td>0.0</td>\n      <td>0.0</td>\n      <td>0.0</td>\n      <td>0.0</td>\n      <td>0.0</td>\n      <td>0.0</td>\n    </tr>\n  </tbody>\n</table>\n<p>20 rows × 500 columns</p>\n</div>"
          },
          "metadata": {}
        }
      ]
    },
    {
      "cell_type": "code",
      "source": [
        "df_final.head(20)"
      ],
      "metadata": {
        "execution": {
          "iopub.status.busy": "2023-06-05T15:00:34.232785Z",
          "iopub.execute_input": "2023-06-05T15:00:34.233384Z",
          "iopub.status.idle": "2023-06-05T15:00:34.259301Z",
          "shell.execute_reply.started": "2023-06-05T15:00:34.233329Z",
          "shell.execute_reply": "2023-06-05T15:00:34.257065Z"
        },
        "trusted": true,
        "id": "ahwXzCvaGxqh",
        "outputId": "d0a8ea7a-e726-4eab-c1c7-9ed6977c88ec"
      },
      "execution_count": null,
      "outputs": [
        {
          "execution_count": 21,
          "output_type": "execute_result",
          "data": {
            "text/plain": "             sensor_id   time  charge  sensor_azimuth  sensor_zenith\nevent_id                                                            \n3266199  0        1775  10004   1.375       -0.116273      -1.386596\n         1        1776  10047   1.925       -0.116273      -1.354157\n         2        1774  10059   1.075       -0.116273      -1.419432\n         3        1166  10969   1.475       -0.569066       1.427733\n         4        1105  11028   1.875       -0.783732       1.334892\n         5        1106  11034   1.025       -0.783732       1.389699\n         6        1107  11066   1.275       -0.783732       1.445661\n         7        1167  11122   1.625       -0.569066       1.470974\n         8        1104  11173   1.275       -0.783732       1.281491\n         9        1109  11932   0.925       -0.783732       1.559557\n         10          0      0   0.000        0.000000       0.000000\n         11          0      0   0.000        0.000000       0.000000\n         12          0      0   0.000        0.000000       0.000000\n         13          0      0   0.000        0.000000       0.000000\n         14          0      0   0.000        0.000000       0.000000\n         15          0      0   0.000        0.000000       0.000000\n         16          0      0   0.000        0.000000       0.000000\n         17          0      0   0.000        0.000000       0.000000\n         18          0      0   0.000        0.000000       0.000000\n         19          0      0   0.000        0.000000       0.000000",
            "text/html": "<div>\n<style scoped>\n    .dataframe tbody tr th:only-of-type {\n        vertical-align: middle;\n    }\n\n    .dataframe tbody tr th {\n        vertical-align: top;\n    }\n\n    .dataframe thead th {\n        text-align: right;\n    }\n</style>\n<table border=\"1\" class=\"dataframe\">\n  <thead>\n    <tr style=\"text-align: right;\">\n      <th></th>\n      <th></th>\n      <th>sensor_id</th>\n      <th>time</th>\n      <th>charge</th>\n      <th>sensor_azimuth</th>\n      <th>sensor_zenith</th>\n    </tr>\n    <tr>\n      <th>event_id</th>\n      <th></th>\n      <th></th>\n      <th></th>\n      <th></th>\n      <th></th>\n      <th></th>\n    </tr>\n  </thead>\n  <tbody>\n    <tr>\n      <th rowspan=\"20\" valign=\"top\">3266199</th>\n      <th>0</th>\n      <td>1775</td>\n      <td>10004</td>\n      <td>1.375</td>\n      <td>-0.116273</td>\n      <td>-1.386596</td>\n    </tr>\n    <tr>\n      <th>1</th>\n      <td>1776</td>\n      <td>10047</td>\n      <td>1.925</td>\n      <td>-0.116273</td>\n      <td>-1.354157</td>\n    </tr>\n    <tr>\n      <th>2</th>\n      <td>1774</td>\n      <td>10059</td>\n      <td>1.075</td>\n      <td>-0.116273</td>\n      <td>-1.419432</td>\n    </tr>\n    <tr>\n      <th>3</th>\n      <td>1166</td>\n      <td>10969</td>\n      <td>1.475</td>\n      <td>-0.569066</td>\n      <td>1.427733</td>\n    </tr>\n    <tr>\n      <th>4</th>\n      <td>1105</td>\n      <td>11028</td>\n      <td>1.875</td>\n      <td>-0.783732</td>\n      <td>1.334892</td>\n    </tr>\n    <tr>\n      <th>5</th>\n      <td>1106</td>\n      <td>11034</td>\n      <td>1.025</td>\n      <td>-0.783732</td>\n      <td>1.389699</td>\n    </tr>\n    <tr>\n      <th>6</th>\n      <td>1107</td>\n      <td>11066</td>\n      <td>1.275</td>\n      <td>-0.783732</td>\n      <td>1.445661</td>\n    </tr>\n    <tr>\n      <th>7</th>\n      <td>1167</td>\n      <td>11122</td>\n      <td>1.625</td>\n      <td>-0.569066</td>\n      <td>1.470974</td>\n    </tr>\n    <tr>\n      <th>8</th>\n      <td>1104</td>\n      <td>11173</td>\n      <td>1.275</td>\n      <td>-0.783732</td>\n      <td>1.281491</td>\n    </tr>\n    <tr>\n      <th>9</th>\n      <td>1109</td>\n      <td>11932</td>\n      <td>0.925</td>\n      <td>-0.783732</td>\n      <td>1.559557</td>\n    </tr>\n    <tr>\n      <th>10</th>\n      <td>0</td>\n      <td>0</td>\n      <td>0.000</td>\n      <td>0.000000</td>\n      <td>0.000000</td>\n    </tr>\n    <tr>\n      <th>11</th>\n      <td>0</td>\n      <td>0</td>\n      <td>0.000</td>\n      <td>0.000000</td>\n      <td>0.000000</td>\n    </tr>\n    <tr>\n      <th>12</th>\n      <td>0</td>\n      <td>0</td>\n      <td>0.000</td>\n      <td>0.000000</td>\n      <td>0.000000</td>\n    </tr>\n    <tr>\n      <th>13</th>\n      <td>0</td>\n      <td>0</td>\n      <td>0.000</td>\n      <td>0.000000</td>\n      <td>0.000000</td>\n    </tr>\n    <tr>\n      <th>14</th>\n      <td>0</td>\n      <td>0</td>\n      <td>0.000</td>\n      <td>0.000000</td>\n      <td>0.000000</td>\n    </tr>\n    <tr>\n      <th>15</th>\n      <td>0</td>\n      <td>0</td>\n      <td>0.000</td>\n      <td>0.000000</td>\n      <td>0.000000</td>\n    </tr>\n    <tr>\n      <th>16</th>\n      <td>0</td>\n      <td>0</td>\n      <td>0.000</td>\n      <td>0.000000</td>\n      <td>0.000000</td>\n    </tr>\n    <tr>\n      <th>17</th>\n      <td>0</td>\n      <td>0</td>\n      <td>0.000</td>\n      <td>0.000000</td>\n      <td>0.000000</td>\n    </tr>\n    <tr>\n      <th>18</th>\n      <td>0</td>\n      <td>0</td>\n      <td>0.000</td>\n      <td>0.000000</td>\n      <td>0.000000</td>\n    </tr>\n    <tr>\n      <th>19</th>\n      <td>0</td>\n      <td>0</td>\n      <td>0.000</td>\n      <td>0.000000</td>\n      <td>0.000000</td>\n    </tr>\n  </tbody>\n</table>\n</div>"
          },
          "metadata": {}
        }
      ]
    },
    {
      "cell_type": "code",
      "source": [
        "res  = res[res.event_id == df_final.index.get_level_values(0)]\n",
        "\n",
        "res = res.sort_index()\n",
        "res"
      ],
      "metadata": {
        "execution": {
          "iopub.status.busy": "2023-06-05T15:10:52.519121Z",
          "iopub.execute_input": "2023-06-05T15:10:52.519592Z",
          "iopub.status.idle": "2023-06-05T15:10:52.720421Z",
          "shell.execute_reply.started": "2023-06-05T15:10:52.519549Z",
          "shell.execute_reply": "2023-06-05T15:10:52.718346Z"
        },
        "trusted": true,
        "id": "i3mmQRMsGxqk",
        "outputId": "549dcc5e-1707-4767-e70f-3c06cb875204"
      },
      "execution_count": null,
      "outputs": [
        {
          "traceback": [
            "\u001b[0;31m---------------------------------------------------------------------------\u001b[0m",
            "\u001b[0;31mValueError\u001b[0m                                Traceback (most recent call last)",
            "\u001b[0;32m/tmp/ipykernel_27/1774332796.py\u001b[0m in \u001b[0;36m<module>\u001b[0;34m\u001b[0m\n\u001b[0;32m----> 1\u001b[0;31m \u001b[0mres\u001b[0m  \u001b[0;34m=\u001b[0m \u001b[0mres\u001b[0m\u001b[0;34m[\u001b[0m\u001b[0mres\u001b[0m\u001b[0;34m.\u001b[0m\u001b[0mevent_id\u001b[0m \u001b[0;34m==\u001b[0m \u001b[0mdf_final\u001b[0m\u001b[0;34m.\u001b[0m\u001b[0mindex\u001b[0m\u001b[0;34m.\u001b[0m\u001b[0mget_level_values\u001b[0m\u001b[0;34m(\u001b[0m\u001b[0;36m0\u001b[0m\u001b[0;34m)\u001b[0m\u001b[0;34m]\u001b[0m\u001b[0;34m\u001b[0m\u001b[0;34m\u001b[0m\u001b[0m\n\u001b[0m\u001b[1;32m      2\u001b[0m \u001b[0;34m\u001b[0m\u001b[0m\n\u001b[1;32m      3\u001b[0m \u001b[0mres\u001b[0m \u001b[0;34m=\u001b[0m \u001b[0mres\u001b[0m\u001b[0;34m.\u001b[0m\u001b[0msort_index\u001b[0m\u001b[0;34m(\u001b[0m\u001b[0;34m)\u001b[0m\u001b[0;34m\u001b[0m\u001b[0;34m\u001b[0m\u001b[0m\n\u001b[1;32m      4\u001b[0m \u001b[0mres\u001b[0m\u001b[0;34m\u001b[0m\u001b[0;34m\u001b[0m\u001b[0m\n",
            "\u001b[0;32m/opt/conda/lib/python3.7/site-packages/pandas/core/ops/common.py\u001b[0m in \u001b[0;36mnew_method\u001b[0;34m(self, other)\u001b[0m\n\u001b[1;32m     67\u001b[0m         \u001b[0mother\u001b[0m \u001b[0;34m=\u001b[0m \u001b[0mitem_from_zerodim\u001b[0m\u001b[0;34m(\u001b[0m\u001b[0mother\u001b[0m\u001b[0;34m)\u001b[0m\u001b[0;34m\u001b[0m\u001b[0;34m\u001b[0m\u001b[0m\n\u001b[1;32m     68\u001b[0m \u001b[0;34m\u001b[0m\u001b[0m\n\u001b[0;32m---> 69\u001b[0;31m         \u001b[0;32mreturn\u001b[0m \u001b[0mmethod\u001b[0m\u001b[0;34m(\u001b[0m\u001b[0mself\u001b[0m\u001b[0;34m,\u001b[0m \u001b[0mother\u001b[0m\u001b[0;34m)\u001b[0m\u001b[0;34m\u001b[0m\u001b[0;34m\u001b[0m\u001b[0m\n\u001b[0m\u001b[1;32m     70\u001b[0m \u001b[0;34m\u001b[0m\u001b[0m\n\u001b[1;32m     71\u001b[0m     \u001b[0;32mreturn\u001b[0m \u001b[0mnew_method\u001b[0m\u001b[0;34m\u001b[0m\u001b[0;34m\u001b[0m\u001b[0m\n",
            "\u001b[0;32m/opt/conda/lib/python3.7/site-packages/pandas/core/arraylike.py\u001b[0m in \u001b[0;36m__eq__\u001b[0;34m(self, other)\u001b[0m\n\u001b[1;32m     30\u001b[0m     \u001b[0;34m@\u001b[0m\u001b[0munpack_zerodim_and_defer\u001b[0m\u001b[0;34m(\u001b[0m\u001b[0;34m\"__eq__\"\u001b[0m\u001b[0;34m)\u001b[0m\u001b[0;34m\u001b[0m\u001b[0;34m\u001b[0m\u001b[0m\n\u001b[1;32m     31\u001b[0m     \u001b[0;32mdef\u001b[0m \u001b[0m__eq__\u001b[0m\u001b[0;34m(\u001b[0m\u001b[0mself\u001b[0m\u001b[0;34m,\u001b[0m \u001b[0mother\u001b[0m\u001b[0;34m)\u001b[0m\u001b[0;34m:\u001b[0m\u001b[0;34m\u001b[0m\u001b[0;34m\u001b[0m\u001b[0m\n\u001b[0;32m---> 32\u001b[0;31m         \u001b[0;32mreturn\u001b[0m \u001b[0mself\u001b[0m\u001b[0;34m.\u001b[0m\u001b[0m_cmp_method\u001b[0m\u001b[0;34m(\u001b[0m\u001b[0mother\u001b[0m\u001b[0;34m,\u001b[0m \u001b[0moperator\u001b[0m\u001b[0;34m.\u001b[0m\u001b[0meq\u001b[0m\u001b[0;34m)\u001b[0m\u001b[0;34m\u001b[0m\u001b[0;34m\u001b[0m\u001b[0m\n\u001b[0m\u001b[1;32m     33\u001b[0m \u001b[0;34m\u001b[0m\u001b[0m\n\u001b[1;32m     34\u001b[0m     \u001b[0;34m@\u001b[0m\u001b[0munpack_zerodim_and_defer\u001b[0m\u001b[0;34m(\u001b[0m\u001b[0;34m\"__ne__\"\u001b[0m\u001b[0;34m)\u001b[0m\u001b[0;34m\u001b[0m\u001b[0;34m\u001b[0m\u001b[0m\n",
            "\u001b[0;32m/opt/conda/lib/python3.7/site-packages/pandas/core/series.py\u001b[0m in \u001b[0;36m_cmp_method\u001b[0;34m(self, other, op)\u001b[0m\n\u001b[1;32m   5500\u001b[0m \u001b[0;34m\u001b[0m\u001b[0m\n\u001b[1;32m   5501\u001b[0m         \u001b[0;32mwith\u001b[0m \u001b[0mnp\u001b[0m\u001b[0;34m.\u001b[0m\u001b[0merrstate\u001b[0m\u001b[0;34m(\u001b[0m\u001b[0mall\u001b[0m\u001b[0;34m=\u001b[0m\u001b[0;34m\"ignore\"\u001b[0m\u001b[0;34m)\u001b[0m\u001b[0;34m:\u001b[0m\u001b[0;34m\u001b[0m\u001b[0;34m\u001b[0m\u001b[0m\n\u001b[0;32m-> 5502\u001b[0;31m             \u001b[0mres_values\u001b[0m \u001b[0;34m=\u001b[0m \u001b[0mops\u001b[0m\u001b[0;34m.\u001b[0m\u001b[0mcomparison_op\u001b[0m\u001b[0;34m(\u001b[0m\u001b[0mlvalues\u001b[0m\u001b[0;34m,\u001b[0m \u001b[0mrvalues\u001b[0m\u001b[0;34m,\u001b[0m \u001b[0mop\u001b[0m\u001b[0;34m)\u001b[0m\u001b[0;34m\u001b[0m\u001b[0;34m\u001b[0m\u001b[0m\n\u001b[0m\u001b[1;32m   5503\u001b[0m \u001b[0;34m\u001b[0m\u001b[0m\n\u001b[1;32m   5504\u001b[0m         \u001b[0;32mreturn\u001b[0m \u001b[0mself\u001b[0m\u001b[0;34m.\u001b[0m\u001b[0m_construct_result\u001b[0m\u001b[0;34m(\u001b[0m\u001b[0mres_values\u001b[0m\u001b[0;34m,\u001b[0m \u001b[0mname\u001b[0m\u001b[0;34m=\u001b[0m\u001b[0mres_name\u001b[0m\u001b[0;34m)\u001b[0m\u001b[0;34m\u001b[0m\u001b[0;34m\u001b[0m\u001b[0m\n",
            "\u001b[0;32m/opt/conda/lib/python3.7/site-packages/pandas/core/ops/array_ops.py\u001b[0m in \u001b[0;36mcomparison_op\u001b[0;34m(left, right, op)\u001b[0m\n\u001b[1;32m    260\u001b[0m         \u001b[0;32mif\u001b[0m \u001b[0mlen\u001b[0m\u001b[0;34m(\u001b[0m\u001b[0mlvalues\u001b[0m\u001b[0;34m)\u001b[0m \u001b[0;34m!=\u001b[0m \u001b[0mlen\u001b[0m\u001b[0;34m(\u001b[0m\u001b[0mrvalues\u001b[0m\u001b[0;34m)\u001b[0m\u001b[0;34m:\u001b[0m\u001b[0;34m\u001b[0m\u001b[0;34m\u001b[0m\u001b[0m\n\u001b[1;32m    261\u001b[0m             raise ValueError(\n\u001b[0;32m--> 262\u001b[0;31m                 \u001b[0;34m\"Lengths must match to compare\"\u001b[0m\u001b[0;34m,\u001b[0m \u001b[0mlvalues\u001b[0m\u001b[0;34m.\u001b[0m\u001b[0mshape\u001b[0m\u001b[0;34m,\u001b[0m \u001b[0mrvalues\u001b[0m\u001b[0;34m.\u001b[0m\u001b[0mshape\u001b[0m\u001b[0;34m\u001b[0m\u001b[0;34m\u001b[0m\u001b[0m\n\u001b[0m\u001b[1;32m    263\u001b[0m             )\n\u001b[1;32m    264\u001b[0m \u001b[0;34m\u001b[0m\u001b[0m\n",
            "\u001b[0;31mValueError\u001b[0m: ('Lengths must match to compare', (131953924,), (20000000,))"
          ],
          "ename": "ValueError",
          "evalue": "('Lengths must match to compare', (131953924,), (20000000,))",
          "output_type": "error"
        }
      ]
    },
    {
      "cell_type": "code",
      "source": [
        "df_final1 = df_final1.reset_index(drop = False)\n",
        "df_final1"
      ],
      "metadata": {
        "execution": {
          "iopub.status.busy": "2023-06-05T13:35:11.605017Z",
          "iopub.execute_input": "2023-06-05T13:35:11.605457Z",
          "iopub.status.idle": "2023-06-05T13:35:11.911902Z",
          "shell.execute_reply.started": "2023-06-05T13:35:11.605409Z",
          "shell.execute_reply": "2023-06-05T13:35:11.910555Z"
        },
        "trusted": true,
        "id": "vPayZQLSGxqm",
        "outputId": "ccdfa7d3-bca5-4acd-f58e-8df886052ed2"
      },
      "execution_count": null,
      "outputs": [
        {
          "execution_count": 23,
          "output_type": "execute_result",
          "data": {
            "text/plain": "       event_id sensor_id                                                  \\\n                        0     1     2     3     4     5     6     7     8   \n0       3266199      1775  1776  1774  1166  1105  1106  1107  1167  1104   \n1       3266228      3897  3896  3898  3894  3410  3899  3941  3940  3409   \n2       3266282       732  1143   734  1141  1142  1140     0     0     0   \n3       3266329      2380  2381  2383  2384  2382  2387  2995  2388  2990   \n4       3266370      4363  4362  4364  4360  3940  3941     0     0     0   \n...         ...       ...   ...   ...   ...   ...   ...   ...   ...   ...   \n199995  6517762      4637  4639  4635  4640  4636  4633  4580  4634  4584   \n199996  6517770        65    64    63    62    66    61   553   552   555   \n199997  6517775      2529  2530  2528  2526  2525  2532  3547  3549  3548   \n199998  6517794      3790  3791  3787  3788  3792  3793     0     0     0   \n199999  6517807      2961  2963  2964  2965  2370  2368  2328  2331  2334   \n\n        ... sensor_zenith                                               \n        ...            90   91   92   93   94   95   96   97   98   99  \n0       ...           0.0  0.0  0.0  0.0  0.0  0.0  0.0  0.0  0.0  0.0  \n1       ...           0.0  0.0  0.0  0.0  0.0  0.0  0.0  0.0  0.0  0.0  \n2       ...           0.0  0.0  0.0  0.0  0.0  0.0  0.0  0.0  0.0  0.0  \n3       ...           0.0  0.0  0.0  0.0  0.0  0.0  0.0  0.0  0.0  0.0  \n4       ...           0.0  0.0  0.0  0.0  0.0  0.0  0.0  0.0  0.0  0.0  \n...     ...           ...  ...  ...  ...  ...  ...  ...  ...  ...  ...  \n199995  ...           0.0  0.0  0.0  0.0  0.0  0.0  0.0  0.0  0.0  0.0  \n199996  ...           0.0  0.0  0.0  0.0  0.0  0.0  0.0  0.0  0.0  0.0  \n199997  ...           0.0  0.0  0.0  0.0  0.0  0.0  0.0  0.0  0.0  0.0  \n199998  ...           0.0  0.0  0.0  0.0  0.0  0.0  0.0  0.0  0.0  0.0  \n199999  ...           0.0  0.0  0.0  0.0  0.0  0.0  0.0  0.0  0.0  0.0  \n\n[200000 rows x 501 columns]",
            "text/html": "<div>\n<style scoped>\n    .dataframe tbody tr th:only-of-type {\n        vertical-align: middle;\n    }\n\n    .dataframe tbody tr th {\n        vertical-align: top;\n    }\n\n    .dataframe thead tr th {\n        text-align: left;\n    }\n</style>\n<table border=\"1\" class=\"dataframe\">\n  <thead>\n    <tr>\n      <th></th>\n      <th>event_id</th>\n      <th colspan=\"9\" halign=\"left\">sensor_id</th>\n      <th>...</th>\n      <th colspan=\"10\" halign=\"left\">sensor_zenith</th>\n    </tr>\n    <tr>\n      <th></th>\n      <th></th>\n      <th>0</th>\n      <th>1</th>\n      <th>2</th>\n      <th>3</th>\n      <th>4</th>\n      <th>5</th>\n      <th>6</th>\n      <th>7</th>\n      <th>8</th>\n      <th>...</th>\n      <th>90</th>\n      <th>91</th>\n      <th>92</th>\n      <th>93</th>\n      <th>94</th>\n      <th>95</th>\n      <th>96</th>\n      <th>97</th>\n      <th>98</th>\n      <th>99</th>\n    </tr>\n  </thead>\n  <tbody>\n    <tr>\n      <th>0</th>\n      <td>3266199</td>\n      <td>1775</td>\n      <td>1776</td>\n      <td>1774</td>\n      <td>1166</td>\n      <td>1105</td>\n      <td>1106</td>\n      <td>1107</td>\n      <td>1167</td>\n      <td>1104</td>\n      <td>...</td>\n      <td>0.0</td>\n      <td>0.0</td>\n      <td>0.0</td>\n      <td>0.0</td>\n      <td>0.0</td>\n      <td>0.0</td>\n      <td>0.0</td>\n      <td>0.0</td>\n      <td>0.0</td>\n      <td>0.0</td>\n    </tr>\n    <tr>\n      <th>1</th>\n      <td>3266228</td>\n      <td>3897</td>\n      <td>3896</td>\n      <td>3898</td>\n      <td>3894</td>\n      <td>3410</td>\n      <td>3899</td>\n      <td>3941</td>\n      <td>3940</td>\n      <td>3409</td>\n      <td>...</td>\n      <td>0.0</td>\n      <td>0.0</td>\n      <td>0.0</td>\n      <td>0.0</td>\n      <td>0.0</td>\n      <td>0.0</td>\n      <td>0.0</td>\n      <td>0.0</td>\n      <td>0.0</td>\n      <td>0.0</td>\n    </tr>\n    <tr>\n      <th>2</th>\n      <td>3266282</td>\n      <td>732</td>\n      <td>1143</td>\n      <td>734</td>\n      <td>1141</td>\n      <td>1142</td>\n      <td>1140</td>\n      <td>0</td>\n      <td>0</td>\n      <td>0</td>\n      <td>...</td>\n      <td>0.0</td>\n      <td>0.0</td>\n      <td>0.0</td>\n      <td>0.0</td>\n      <td>0.0</td>\n      <td>0.0</td>\n      <td>0.0</td>\n      <td>0.0</td>\n      <td>0.0</td>\n      <td>0.0</td>\n    </tr>\n    <tr>\n      <th>3</th>\n      <td>3266329</td>\n      <td>2380</td>\n      <td>2381</td>\n      <td>2383</td>\n      <td>2384</td>\n      <td>2382</td>\n      <td>2387</td>\n      <td>2995</td>\n      <td>2388</td>\n      <td>2990</td>\n      <td>...</td>\n      <td>0.0</td>\n      <td>0.0</td>\n      <td>0.0</td>\n      <td>0.0</td>\n      <td>0.0</td>\n      <td>0.0</td>\n      <td>0.0</td>\n      <td>0.0</td>\n      <td>0.0</td>\n      <td>0.0</td>\n    </tr>\n    <tr>\n      <th>4</th>\n      <td>3266370</td>\n      <td>4363</td>\n      <td>4362</td>\n      <td>4364</td>\n      <td>4360</td>\n      <td>3940</td>\n      <td>3941</td>\n      <td>0</td>\n      <td>0</td>\n      <td>0</td>\n      <td>...</td>\n      <td>0.0</td>\n      <td>0.0</td>\n      <td>0.0</td>\n      <td>0.0</td>\n      <td>0.0</td>\n      <td>0.0</td>\n      <td>0.0</td>\n      <td>0.0</td>\n      <td>0.0</td>\n      <td>0.0</td>\n    </tr>\n    <tr>\n      <th>...</th>\n      <td>...</td>\n      <td>...</td>\n      <td>...</td>\n      <td>...</td>\n      <td>...</td>\n      <td>...</td>\n      <td>...</td>\n      <td>...</td>\n      <td>...</td>\n      <td>...</td>\n      <td>...</td>\n      <td>...</td>\n      <td>...</td>\n      <td>...</td>\n      <td>...</td>\n      <td>...</td>\n      <td>...</td>\n      <td>...</td>\n      <td>...</td>\n      <td>...</td>\n      <td>...</td>\n    </tr>\n    <tr>\n      <th>199995</th>\n      <td>6517762</td>\n      <td>4637</td>\n      <td>4639</td>\n      <td>4635</td>\n      <td>4640</td>\n      <td>4636</td>\n      <td>4633</td>\n      <td>4580</td>\n      <td>4634</td>\n      <td>4584</td>\n      <td>...</td>\n      <td>0.0</td>\n      <td>0.0</td>\n      <td>0.0</td>\n      <td>0.0</td>\n      <td>0.0</td>\n      <td>0.0</td>\n      <td>0.0</td>\n      <td>0.0</td>\n      <td>0.0</td>\n      <td>0.0</td>\n    </tr>\n    <tr>\n      <th>199996</th>\n      <td>6517770</td>\n      <td>65</td>\n      <td>64</td>\n      <td>63</td>\n      <td>62</td>\n      <td>66</td>\n      <td>61</td>\n      <td>553</td>\n      <td>552</td>\n      <td>555</td>\n      <td>...</td>\n      <td>0.0</td>\n      <td>0.0</td>\n      <td>0.0</td>\n      <td>0.0</td>\n      <td>0.0</td>\n      <td>0.0</td>\n      <td>0.0</td>\n      <td>0.0</td>\n      <td>0.0</td>\n      <td>0.0</td>\n    </tr>\n    <tr>\n      <th>199997</th>\n      <td>6517775</td>\n      <td>2529</td>\n      <td>2530</td>\n      <td>2528</td>\n      <td>2526</td>\n      <td>2525</td>\n      <td>2532</td>\n      <td>3547</td>\n      <td>3549</td>\n      <td>3548</td>\n      <td>...</td>\n      <td>0.0</td>\n      <td>0.0</td>\n      <td>0.0</td>\n      <td>0.0</td>\n      <td>0.0</td>\n      <td>0.0</td>\n      <td>0.0</td>\n      <td>0.0</td>\n      <td>0.0</td>\n      <td>0.0</td>\n    </tr>\n    <tr>\n      <th>199998</th>\n      <td>6517794</td>\n      <td>3790</td>\n      <td>3791</td>\n      <td>3787</td>\n      <td>3788</td>\n      <td>3792</td>\n      <td>3793</td>\n      <td>0</td>\n      <td>0</td>\n      <td>0</td>\n      <td>...</td>\n      <td>0.0</td>\n      <td>0.0</td>\n      <td>0.0</td>\n      <td>0.0</td>\n      <td>0.0</td>\n      <td>0.0</td>\n      <td>0.0</td>\n      <td>0.0</td>\n      <td>0.0</td>\n      <td>0.0</td>\n    </tr>\n    <tr>\n      <th>199999</th>\n      <td>6517807</td>\n      <td>2961</td>\n      <td>2963</td>\n      <td>2964</td>\n      <td>2965</td>\n      <td>2370</td>\n      <td>2368</td>\n      <td>2328</td>\n      <td>2331</td>\n      <td>2334</td>\n      <td>...</td>\n      <td>0.0</td>\n      <td>0.0</td>\n      <td>0.0</td>\n      <td>0.0</td>\n      <td>0.0</td>\n      <td>0.0</td>\n      <td>0.0</td>\n      <td>0.0</td>\n      <td>0.0</td>\n      <td>0.0</td>\n    </tr>\n  </tbody>\n</table>\n<p>200000 rows × 501 columns</p>\n</div>"
          },
          "metadata": {}
        }
      ]
    },
    {
      "cell_type": "code",
      "source": [
        "#Defining the targets and the variables\n",
        "\n",
        "X = df_final1.loc[:,['time','charge','sensor_azimuth', 'sensor_zenith']] #variables to be taken from the batch\n",
        "Y = res.loc[:,['azimuth', 'zenith']] #target for the training to be taken from the metadata file\n"
      ],
      "metadata": {
        "execution": {
          "iopub.status.busy": "2023-06-05T13:07:03.967078Z",
          "iopub.execute_input": "2023-06-05T13:07:03.967560Z",
          "iopub.status.idle": "2023-06-05T13:07:04.432360Z",
          "shell.execute_reply.started": "2023-06-05T13:07:03.967514Z",
          "shell.execute_reply": "2023-06-05T13:07:04.430738Z"
        },
        "trusted": true,
        "id": "Ud1m7L8zGxqp"
      },
      "execution_count": null,
      "outputs": []
    },
    {
      "cell_type": "code",
      "source": [
        "plt.hist((df_with_geom.groupby(by=\"event_id\").count())[\"zenith\"],bins=100,range=(0,100))\n",
        "plt.yscale(\"log\")"
      ],
      "metadata": {
        "execution": {
          "iopub.status.busy": "2023-06-05T13:07:04.433764Z",
          "iopub.execute_input": "2023-06-05T13:07:04.434157Z",
          "iopub.status.idle": "2023-06-05T13:07:05.073914Z",
          "shell.execute_reply.started": "2023-06-05T13:07:04.434121Z",
          "shell.execute_reply": "2023-06-05T13:07:05.071466Z"
        },
        "trusted": true,
        "id": "P90teFOTGxqr",
        "outputId": "f4a20388-5eee-4da8-e738-18d329dbe328"
      },
      "execution_count": null,
      "outputs": [
        {
          "traceback": [
            "\u001b[0;31m---------------------------------------------------------------------------\u001b[0m",
            "\u001b[0;31mNameError\u001b[0m                                 Traceback (most recent call last)",
            "\u001b[0;32m/tmp/ipykernel_27/138422381.py\u001b[0m in \u001b[0;36m<module>\u001b[0;34m\u001b[0m\n\u001b[0;32m----> 1\u001b[0;31m \u001b[0mplt\u001b[0m\u001b[0;34m.\u001b[0m\u001b[0mhist\u001b[0m\u001b[0;34m(\u001b[0m\u001b[0;34m(\u001b[0m\u001b[0mdf_with_geom\u001b[0m\u001b[0;34m.\u001b[0m\u001b[0mgroupby\u001b[0m\u001b[0;34m(\u001b[0m\u001b[0mby\u001b[0m\u001b[0;34m=\u001b[0m\u001b[0;34m\"event_id\"\u001b[0m\u001b[0;34m)\u001b[0m\u001b[0;34m.\u001b[0m\u001b[0mcount\u001b[0m\u001b[0;34m(\u001b[0m\u001b[0;34m)\u001b[0m\u001b[0;34m)\u001b[0m\u001b[0;34m[\u001b[0m\u001b[0;34m\"zenith\"\u001b[0m\u001b[0;34m]\u001b[0m\u001b[0;34m,\u001b[0m\u001b[0mbins\u001b[0m\u001b[0;34m=\u001b[0m\u001b[0;36m100\u001b[0m\u001b[0;34m,\u001b[0m\u001b[0mrange\u001b[0m\u001b[0;34m=\u001b[0m\u001b[0;34m(\u001b[0m\u001b[0;36m0\u001b[0m\u001b[0;34m,\u001b[0m\u001b[0;36m100\u001b[0m\u001b[0;34m)\u001b[0m\u001b[0;34m)\u001b[0m\u001b[0;34m\u001b[0m\u001b[0;34m\u001b[0m\u001b[0m\n\u001b[0m\u001b[1;32m      2\u001b[0m \u001b[0mplt\u001b[0m\u001b[0;34m.\u001b[0m\u001b[0myscale\u001b[0m\u001b[0;34m(\u001b[0m\u001b[0;34m\"log\"\u001b[0m\u001b[0;34m)\u001b[0m\u001b[0;34m\u001b[0m\u001b[0;34m\u001b[0m\u001b[0m\n",
            "\u001b[0;31mNameError\u001b[0m: name 'df_with_geom' is not defined"
          ],
          "ename": "NameError",
          "evalue": "name 'df_with_geom' is not defined",
          "output_type": "error"
        }
      ]
    },
    {
      "cell_type": "code",
      "source": [
        "#Study the distribution of the variables and targets\n",
        "\n",
        "plt.hist(df_with_geom['time'], bins = 100)\n",
        "plt.xlabel(\"time\")"
      ],
      "metadata": {
        "execution": {
          "iopub.status.busy": "2023-06-05T13:07:05.074790Z",
          "iopub.status.idle": "2023-06-05T13:07:05.075270Z",
          "shell.execute_reply.started": "2023-06-05T13:07:05.075042Z",
          "shell.execute_reply": "2023-06-05T13:07:05.075067Z"
        },
        "trusted": true,
        "id": "sGACs16CGxqt"
      },
      "execution_count": null,
      "outputs": []
    },
    {
      "cell_type": "code",
      "source": [
        "X.shape"
      ],
      "metadata": {
        "execution": {
          "iopub.status.busy": "2023-06-05T13:07:31.978998Z",
          "iopub.execute_input": "2023-06-05T13:07:31.979479Z",
          "iopub.status.idle": "2023-06-05T13:07:31.987787Z",
          "shell.execute_reply.started": "2023-06-05T13:07:31.979436Z",
          "shell.execute_reply": "2023-06-05T13:07:31.986482Z"
        },
        "trusted": true,
        "id": "o8jzrZzMGxqw",
        "outputId": "58ef547c-4932-4909-d793-2d45790ddeb5"
      },
      "execution_count": null,
      "outputs": [
        {
          "execution_count": 29,
          "output_type": "execute_result",
          "data": {
            "text/plain": "(200000, 792)"
          },
          "metadata": {}
        }
      ]
    },
    {
      "cell_type": "code",
      "source": [
        "plt.hist(df_with_geom['charge'], bins=100)\n",
        "plt.xlabel(\"charge\")\n",
        "plt.yscale('log1p')"
      ],
      "metadata": {
        "execution": {
          "iopub.status.busy": "2023-06-05T13:07:05.080037Z",
          "iopub.status.idle": "2023-06-05T13:07:05.080930Z",
          "shell.execute_reply.started": "2023-06-05T13:07:05.080653Z",
          "shell.execute_reply": "2023-06-05T13:07:05.080691Z"
        },
        "trusted": true,
        "id": "L11TsK2YGxqy"
      },
      "execution_count": null,
      "outputs": []
    },
    {
      "cell_type": "code",
      "source": [
        "model = keras.Sequential([layers.Dense(units=512, input_shape= [400], activation = 'relu'),\n",
        "                         layers.Dense(units = 512, activation = 'relu'),\n",
        "                         layers.Dense(units = 512, activation = 'relu'),\n",
        "                         layers.Dense(units = 512, activation = 'relu'),\n",
        "                         layers.Dense(units = 512, activation = 'relu'),\n",
        "                         layers.Dense(units= 2, activation = 'linear')])\n",
        "\n",
        "predicted_X = model.predict(X)\n",
        "\n",
        "\n",
        "model.compile(optimizer=Adam(learning_rate= 0.0001), loss = 'mae')#angular_dist_score(np.array(Y), np.array(predicted_X)))"
      ],
      "metadata": {
        "execution": {
          "iopub.status.busy": "2023-06-05T13:07:05.082851Z",
          "iopub.status.idle": "2023-06-05T13:07:05.083296Z",
          "shell.execute_reply.started": "2023-06-05T13:07:05.083075Z",
          "shell.execute_reply": "2023-06-05T13:07:05.083100Z"
        },
        "trusted": true,
        "id": "qp9WPCrXGxq0"
      },
      "execution_count": null,
      "outputs": []
    },
    {
      "cell_type": "code",
      "source": [
        "model.summary()"
      ],
      "metadata": {
        "execution": {
          "iopub.status.busy": "2023-06-05T13:07:05.085342Z",
          "iopub.status.idle": "2023-06-05T13:07:05.085843Z",
          "shell.execute_reply.started": "2023-06-05T13:07:05.085614Z",
          "shell.execute_reply": "2023-06-05T13:07:05.085640Z"
        },
        "trusted": true,
        "id": "PxyP3fY_Gxq4"
      },
      "execution_count": null,
      "outputs": []
    },
    {
      "cell_type": "code",
      "source": [
        "history = model.fit(X, Y,batch_size=128,epochs=30, validation_split = 0.4)\n",
        "history_df = pd.DataFrame(history.history)\n",
        "# Start the plot at epoch 5. You can change this to get a different view.\n",
        "history_df.loc[5:, ['loss', 'val_loss']].plot()\n"
      ],
      "metadata": {
        "execution": {
          "iopub.status.busy": "2023-06-05T13:07:05.087310Z",
          "iopub.status.idle": "2023-06-05T13:07:05.087782Z",
          "shell.execute_reply.started": "2023-06-05T13:07:05.087562Z",
          "shell.execute_reply": "2023-06-05T13:07:05.087587Z"
        },
        "trusted": true,
        "id": "pms6BCEPGxq5"
      },
      "execution_count": null,
      "outputs": []
    },
    {
      "cell_type": "code",
      "source": [
        "print(X.shape)"
      ],
      "metadata": {
        "execution": {
          "iopub.status.busy": "2023-06-05T13:07:05.089925Z",
          "iopub.status.idle": "2023-06-05T13:07:05.091021Z",
          "shell.execute_reply.started": "2023-06-05T13:07:05.090781Z",
          "shell.execute_reply": "2023-06-05T13:07:05.090809Z"
        },
        "trusted": true,
        "id": "pkqtg7AuGxq7"
      },
      "execution_count": null,
      "outputs": []
    },
    {
      "cell_type": "code",
      "source": [
        "Y[\"azimuth\"][0]"
      ],
      "metadata": {
        "execution": {
          "iopub.status.busy": "2023-06-05T13:07:05.092496Z",
          "iopub.status.idle": "2023-06-05T13:07:05.094002Z",
          "shell.execute_reply.started": "2023-06-05T13:07:05.093734Z",
          "shell.execute_reply": "2023-06-05T13:07:05.093765Z"
        },
        "trusted": true,
        "id": "Qly_2W6mGxq-"
      },
      "execution_count": null,
      "outputs": []
    }
  ]
}